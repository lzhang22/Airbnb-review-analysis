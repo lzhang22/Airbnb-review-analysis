{
 "cells": [
  {
   "cell_type": "markdown",
   "metadata": {},
   "source": [
    "## Airbnb review analysis\n",
    "\n",
    "#### Part 1. topic modelling\n",
    "What aspects of their stay do guests talk about and care about?\n",
    "#### Part 2. sentiment analysis\n",
    "Sentiment scores of reviews for superhosts and non-superhosts\n",
    "#### Part 3. predicting superhost status with Naive Bayes classifier\n",
    "Vectorize reviews and use features of reviews to predict superhost/non-superhost status\n"
   ]
  },
  {
   "cell_type": "code",
   "execution_count": 1,
   "metadata": {
    "collapsed": true
   },
   "outputs": [],
   "source": [
    "import warnings\n",
    "warnings.filterwarnings('ignore')"
   ]
  },
  {
   "cell_type": "code",
   "execution_count": 2,
   "metadata": {
    "collapsed": true
   },
   "outputs": [],
   "source": [
    "import pandas as pd\n",
    "import matplotlib.pyplot as plt\n",
    "import seaborn as sns\n",
    "import numpy as np\n",
    "import re\n",
    "import nltk\n",
    "from nltk.corpus import stopwords\n",
    "from nltk.tokenize import RegexpTokenizer\n",
    "from nltk.corpus import names\n",
    "from nltk.corpus import wordnet as wn\n",
    "import gensim\n",
    "from gensim import corpora\n",
    "from gensim.models import LdaModel\n",
    "import pyLDAvis\n",
    "import pyLDAvis.gensim\n",
    "from sklearn.model_selection import train_test_split\n",
    "from sklearn.feature_extraction.text import CountVectorizer\n",
    "from sklearn.naive_bayes import MultinomialNB\n",
    "from sklearn import metrics\n",
    "from nltk.sentiment.vader import SentimentIntensityAnalyzer"
   ]
  },
  {
   "cell_type": "markdown",
   "metadata": {},
   "source": [
    "#### Read in data, select useful columns, and merge dataframes"
   ]
  },
  {
   "cell_type": "code",
   "execution_count": 3,
   "metadata": {
    "collapsed": true
   },
   "outputs": [],
   "source": [
    "reviews = pd.read_csv('C:/Users/Zhang/Dropbox/intro to comp ling/final project/data/boston/reviews.csv')\n",
    "listings = pd.read_csv('C:/Users/Zhang/Dropbox/intro to comp ling/final project/data/boston/listings.csv', low_memory = False)"
   ]
  },
  {
   "cell_type": "code",
   "execution_count": 4,
   "metadata": {
    "collapsed": true
   },
   "outputs": [],
   "source": [
    "# save columns in reviews dataframe that are needed for later analyses\n",
    "reviews_trim = reviews[['listing_id', 'comments']]\n",
    "reviews_trim1 = reviews_trim.dropna(axis=0, how='any')\n",
    "# column name-change listing_id to id\n",
    "reviews_trim2 = reviews_trim1.rename(columns = {'listing_id':'id'})"
   ]
  },
  {
   "cell_type": "code",
   "execution_count": 5,
   "metadata": {
    "collapsed": true
   },
   "outputs": [],
   "source": [
    "# only include column in listing useful for later analyses\n",
    "listings_trim = listings[['id', 'host_is_superhost', 'price', 'number_of_reviews', 'review_scores_rating']]\n",
    "listings_trim1 = listings_trim.dropna(axis=0, how='any')"
   ]
  },
  {
   "cell_type": "code",
   "execution_count": 6,
   "metadata": {
    "collapsed": true
   },
   "outputs": [],
   "source": [
    "# merge reviews and listings dataframes\n",
    "text = pd.merge(reviews_trim2, listings_trim1, on = 'id')"
   ]
  },
  {
   "cell_type": "code",
   "execution_count": 7,
   "metadata": {},
   "outputs": [
    {
     "data": {
      "text/html": [
       "<div>\n",
       "<style>\n",
       "    .dataframe thead tr:only-child th {\n",
       "        text-align: right;\n",
       "    }\n",
       "\n",
       "    .dataframe thead th {\n",
       "        text-align: left;\n",
       "    }\n",
       "\n",
       "    .dataframe tbody tr th {\n",
       "        vertical-align: top;\n",
       "    }\n",
       "</style>\n",
       "<table border=\"1\" class=\"dataframe\">\n",
       "  <thead>\n",
       "    <tr style=\"text-align: right;\">\n",
       "      <th></th>\n",
       "      <th>id</th>\n",
       "      <th>comments</th>\n",
       "      <th>host_is_superhost</th>\n",
       "      <th>price</th>\n",
       "      <th>number_of_reviews</th>\n",
       "      <th>review_scores_rating</th>\n",
       "    </tr>\n",
       "  </thead>\n",
       "  <tbody>\n",
       "    <tr>\n",
       "      <th>0</th>\n",
       "      <td>7441144</td>\n",
       "      <td>Pretty nice, quiet, cozy place to stay. Toilet...</td>\n",
       "      <td>f</td>\n",
       "      <td>$50.00</td>\n",
       "      <td>5</td>\n",
       "      <td>88.0</td>\n",
       "    </tr>\n",
       "    <tr>\n",
       "      <th>1</th>\n",
       "      <td>7441144</td>\n",
       "      <td>The host was extremely welcoming and obliging....</td>\n",
       "      <td>f</td>\n",
       "      <td>$50.00</td>\n",
       "      <td>5</td>\n",
       "      <td>88.0</td>\n",
       "    </tr>\n",
       "    <tr>\n",
       "      <th>2</th>\n",
       "      <td>7441144</td>\n",
       "      <td>Nice and easy stay - with good accommodations ...</td>\n",
       "      <td>f</td>\n",
       "      <td>$50.00</td>\n",
       "      <td>5</td>\n",
       "      <td>88.0</td>\n",
       "    </tr>\n",
       "    <tr>\n",
       "      <th>3</th>\n",
       "      <td>7441144</td>\n",
       "      <td>The host has been very accommodating and helpf...</td>\n",
       "      <td>f</td>\n",
       "      <td>$50.00</td>\n",
       "      <td>5</td>\n",
       "      <td>88.0</td>\n",
       "    </tr>\n",
       "    <tr>\n",
       "      <th>4</th>\n",
       "      <td>7441144</td>\n",
       "      <td>It's a great quiet stay.</td>\n",
       "      <td>f</td>\n",
       "      <td>$50.00</td>\n",
       "      <td>5</td>\n",
       "      <td>88.0</td>\n",
       "    </tr>\n",
       "  </tbody>\n",
       "</table>\n",
       "</div>"
      ],
      "text/plain": [
       "        id                                           comments  \\\n",
       "0  7441144  Pretty nice, quiet, cozy place to stay. Toilet...   \n",
       "1  7441144  The host was extremely welcoming and obliging....   \n",
       "2  7441144  Nice and easy stay - with good accommodations ...   \n",
       "3  7441144  The host has been very accommodating and helpf...   \n",
       "4  7441144                           It's a great quiet stay.   \n",
       "\n",
       "  host_is_superhost   price  number_of_reviews  review_scores_rating  \n",
       "0                 f  $50.00                  5                  88.0  \n",
       "1                 f  $50.00                  5                  88.0  \n",
       "2                 f  $50.00                  5                  88.0  \n",
       "3                 f  $50.00                  5                  88.0  \n",
       "4                 f  $50.00                  5                  88.0  "
      ]
     },
     "execution_count": 7,
     "metadata": {},
     "output_type": "execute_result"
    }
   ],
   "source": [
    "text.head()"
   ]
  },
  {
   "cell_type": "code",
   "execution_count": 8,
   "metadata": {},
   "outputs": [
    {
     "name": "stdout",
     "output_type": "stream",
     "text": [
      "<class 'pandas.core.frame.DataFrame'>\n",
      "Int64Index: 120637 entries, 0 to 120636\n",
      "Data columns (total 6 columns):\n",
      "id                      120637 non-null int64\n",
      "comments                120637 non-null object\n",
      "host_is_superhost       120637 non-null object\n",
      "price                   120637 non-null object\n",
      "number_of_reviews       120637 non-null int64\n",
      "review_scores_rating    120637 non-null float64\n",
      "dtypes: float64(1), int64(2), object(3)\n",
      "memory usage: 6.4+ MB\n"
     ]
    }
   ],
   "source": [
    "text.info()"
   ]
  },
  {
   "cell_type": "markdown",
   "metadata": {},
   "source": [
    "#### Clean text data for analyses"
   ]
  },
  {
   "cell_type": "code",
   "execution_count": 9,
   "metadata": {
    "collapsed": true
   },
   "outputs": [],
   "source": [
    "# create a column for whether a review is an automated posting (yes, no)\n",
    "def autopost(x):\n",
    "    if 'an automated posting' in x:\n",
    "        return 'yes'\n",
    "    else:\n",
    "        return 'no'\n",
    "text['auto_posting'] = text['comments'].apply(autopost)"
   ]
  },
  {
   "cell_type": "markdown",
   "metadata": {},
   "source": [
    "Identify nonenglish reviews"
   ]
  },
  {
   "cell_type": "code",
   "execution_count": 10,
   "metadata": {
    "collapsed": true
   },
   "outputs": [],
   "source": [
    "# prepare for nonenglish review removal\n",
    "# nonenglish stopwords\n",
    "stopwords_en = set(stopwords.words('english')) #english stopwords\n",
    "stopwords_nonen = set(stopwords.words()) - stopwords_en\n",
    "# english vocab\n",
    "envocab = set(w.lower() for w in nltk.corpus.words.words())\n",
    "# nonenglish stopwords that are not also english words\n",
    "stopwords_nonenonly = set(stopwords_nonen - stopwords_nonen.intersection(envocab))"
   ]
  },
  {
   "cell_type": "code",
   "execution_count": 11,
   "metadata": {
    "collapsed": true
   },
   "outputs": [],
   "source": [
    "# create a column for whether review is in english (yes, no)\n",
    "tokenizer = RegexpTokenizer(r'\\w+')\n",
    "def en(x):\n",
    "    tokens = set(tokenizer.tokenize(x.lower()))\n",
    "    if len(tokens & stopwords_nonenonly) == 0: # if none of the tokens is a nonenglish stopwords\n",
    "        return 'yes'\n",
    "    else:\n",
    "        return 'no'\n",
    "text['en'] = text['comments'].apply(en)    "
   ]
  },
  {
   "cell_type": "code",
   "execution_count": 12,
   "metadata": {
    "collapsed": true
   },
   "outputs": [],
   "source": [
    "# create a dataframe with reviews that are not auto postings and that are in english\n",
    "text_use = text.loc[(text['auto_posting']=='no') & (text['en']=='yes')]"
   ]
  },
  {
   "cell_type": "markdown",
   "metadata": {},
   "source": [
    "Some reviews contain 'URL HIDDEN', remove these words"
   ]
  },
  {
   "cell_type": "code",
   "execution_count": 13,
   "metadata": {
    "collapsed": true
   },
   "outputs": [],
   "source": [
    "# remove 'URL HIDDEN' in reviews\n",
    "reviews_nonurl = []\n",
    "for comment in text_use['comments']:\n",
    "    review = re.sub('URL HIDDEN', '', comment)\n",
    "    reviews_nonurl.append(review)"
   ]
  },
  {
   "cell_type": "markdown",
   "metadata": {},
   "source": [
    "Text preprocessing: tokenization, personal name removal, lowercase, stopword removal, lemmatization"
   ]
  },
  {
   "cell_type": "code",
   "execution_count": 14,
   "metadata": {
    "collapsed": true
   },
   "outputs": [],
   "source": [
    "# preparing for text preprocessing\n",
    "# tokenizer\n",
    "tokenizer = RegexpTokenizer(r'\\w+')\n",
    "# stopwords \n",
    "stopwords_en = set(stopwords.words('english'))\n",
    "# personal names (which appear to occur very frequently)\n",
    "names = set(names.words())\n",
    "# lemmatizer\n",
    "def get_lemma(word):\n",
    "    lemma = wn.morphy(word)\n",
    "    if lemma is None:\n",
    "        return word\n",
    "    else:\n",
    "        return lemma    "
   ]
  },
  {
   "cell_type": "code",
   "execution_count": 15,
   "metadata": {
    "collapsed": true
   },
   "outputs": [],
   "source": [
    "# text preprocessing\n",
    "cleaned_data = []\n",
    "for review in reviews_nonurl:\n",
    "    tokens = tokenizer.tokenize(review) # tokenize\n",
    "    tokens = [w.lower() for w in tokens if w not in names and len(w)>1]   # remove personal names, remove 1-char tokens, lowercase\n",
    "    tokens = [get_lemma(w) for w in tokens if w not in stopwords_en]      # remove english stopwords, lemmatize\n",
    "    cleaned_data.append(tokens)"
   ]
  },
  {
   "cell_type": "code",
   "execution_count": 16,
   "metadata": {
    "collapsed": true
   },
   "outputs": [],
   "source": [
    "# save cleaned data as a column in text_use dataframe\n",
    "text_use.loc[:, 'cleaned_data'] = cleaned_data"
   ]
  },
  {
   "cell_type": "code",
   "execution_count": 17,
   "metadata": {
    "collapsed": true
   },
   "outputs": [],
   "source": [
    "# calculate length of each review\n",
    "text_use['review_length'] = text_use['cleaned_data'].apply(len)"
   ]
  },
  {
   "cell_type": "code",
   "execution_count": 18,
   "metadata": {},
   "outputs": [
    {
     "data": {
      "text/html": [
       "<div>\n",
       "<style>\n",
       "    .dataframe thead tr:only-child th {\n",
       "        text-align: right;\n",
       "    }\n",
       "\n",
       "    .dataframe thead th {\n",
       "        text-align: left;\n",
       "    }\n",
       "\n",
       "    .dataframe tbody tr th {\n",
       "        vertical-align: top;\n",
       "    }\n",
       "</style>\n",
       "<table border=\"1\" class=\"dataframe\">\n",
       "  <thead>\n",
       "    <tr style=\"text-align: right;\">\n",
       "      <th></th>\n",
       "      <th>id</th>\n",
       "      <th>comments</th>\n",
       "      <th>host_is_superhost</th>\n",
       "      <th>price</th>\n",
       "      <th>number_of_reviews</th>\n",
       "      <th>review_scores_rating</th>\n",
       "      <th>auto_posting</th>\n",
       "      <th>en</th>\n",
       "      <th>cleaned_data</th>\n",
       "      <th>review_length</th>\n",
       "    </tr>\n",
       "  </thead>\n",
       "  <tbody>\n",
       "    <tr>\n",
       "      <th>0</th>\n",
       "      <td>7441144</td>\n",
       "      <td>Pretty nice, quiet, cozy place to stay. Toilet...</td>\n",
       "      <td>f</td>\n",
       "      <td>$50.00</td>\n",
       "      <td>5</td>\n",
       "      <td>88.0</td>\n",
       "      <td>no</td>\n",
       "      <td>yes</td>\n",
       "      <td>[pretty, nice, quiet, cozy, place, stay, toile...</td>\n",
       "      <td>38</td>\n",
       "    </tr>\n",
       "    <tr>\n",
       "      <th>1</th>\n",
       "      <td>7441144</td>\n",
       "      <td>The host was extremely welcoming and obliging....</td>\n",
       "      <td>f</td>\n",
       "      <td>$50.00</td>\n",
       "      <td>5</td>\n",
       "      <td>88.0</td>\n",
       "      <td>no</td>\n",
       "      <td>yes</td>\n",
       "      <td>[host, extremely, welcome, oblige, neighborhoo...</td>\n",
       "      <td>14</td>\n",
       "    </tr>\n",
       "    <tr>\n",
       "      <th>2</th>\n",
       "      <td>7441144</td>\n",
       "      <td>Nice and easy stay - with good accommodations ...</td>\n",
       "      <td>f</td>\n",
       "      <td>$50.00</td>\n",
       "      <td>5</td>\n",
       "      <td>88.0</td>\n",
       "      <td>no</td>\n",
       "      <td>yes</td>\n",
       "      <td>[nice, easy, stay, good, accommodation, especi...</td>\n",
       "      <td>8</td>\n",
       "    </tr>\n",
       "    <tr>\n",
       "      <th>3</th>\n",
       "      <td>7441144</td>\n",
       "      <td>The host has been very accommodating and helpf...</td>\n",
       "      <td>f</td>\n",
       "      <td>$50.00</td>\n",
       "      <td>5</td>\n",
       "      <td>88.0</td>\n",
       "      <td>no</td>\n",
       "      <td>yes</td>\n",
       "      <td>[host, accommodate, helpful, description, ad, ...</td>\n",
       "      <td>10</td>\n",
       "    </tr>\n",
       "    <tr>\n",
       "      <th>4</th>\n",
       "      <td>7441144</td>\n",
       "      <td>It's a great quiet stay.</td>\n",
       "      <td>f</td>\n",
       "      <td>$50.00</td>\n",
       "      <td>5</td>\n",
       "      <td>88.0</td>\n",
       "      <td>no</td>\n",
       "      <td>yes</td>\n",
       "      <td>[great, quiet, stay]</td>\n",
       "      <td>3</td>\n",
       "    </tr>\n",
       "  </tbody>\n",
       "</table>\n",
       "</div>"
      ],
      "text/plain": [
       "        id                                           comments  \\\n",
       "0  7441144  Pretty nice, quiet, cozy place to stay. Toilet...   \n",
       "1  7441144  The host was extremely welcoming and obliging....   \n",
       "2  7441144  Nice and easy stay - with good accommodations ...   \n",
       "3  7441144  The host has been very accommodating and helpf...   \n",
       "4  7441144                           It's a great quiet stay.   \n",
       "\n",
       "  host_is_superhost   price  number_of_reviews  review_scores_rating  \\\n",
       "0                 f  $50.00                  5                  88.0   \n",
       "1                 f  $50.00                  5                  88.0   \n",
       "2                 f  $50.00                  5                  88.0   \n",
       "3                 f  $50.00                  5                  88.0   \n",
       "4                 f  $50.00                  5                  88.0   \n",
       "\n",
       "  auto_posting   en                                       cleaned_data  \\\n",
       "0           no  yes  [pretty, nice, quiet, cozy, place, stay, toile...   \n",
       "1           no  yes  [host, extremely, welcome, oblige, neighborhoo...   \n",
       "2           no  yes  [nice, easy, stay, good, accommodation, especi...   \n",
       "3           no  yes  [host, accommodate, helpful, description, ad, ...   \n",
       "4           no  yes                               [great, quiet, stay]   \n",
       "\n",
       "   review_length  \n",
       "0             38  \n",
       "1             14  \n",
       "2              8  \n",
       "3             10  \n",
       "4              3  "
      ]
     },
     "execution_count": 18,
     "metadata": {},
     "output_type": "execute_result"
    }
   ],
   "source": [
    "text_use.head()"
   ]
  },
  {
   "cell_type": "markdown",
   "metadata": {},
   "source": [
    "#### LDA topic modeling"
   ]
  },
  {
   "cell_type": "code",
   "execution_count": 19,
   "metadata": {
    "collapsed": true
   },
   "outputs": [],
   "source": [
    "# for lda, remove reviews with fewer than 10 tokens, save as a new df\n",
    "text_lda = text_use[text_use['review_length'] > 9]"
   ]
  },
  {
   "cell_type": "markdown",
   "metadata": {},
   "source": [
    "Create dictionary and corpus"
   ]
  },
  {
   "cell_type": "code",
   "execution_count": 20,
   "metadata": {
    "collapsed": true
   },
   "outputs": [],
   "source": [
    "# prepare for lda model\n",
    "# create dictionary: assign an id to each word in documents\n",
    "dictionary = corpora.Dictionary(text_lda['cleaned_data'])\n",
    "# filter out words that occur in < 20 reviews, or > 80% of the reviews\n",
    "dictionary.filter_extremes(no_below = 20, no_above = .8)\n",
    "\n",
    "# creat corpus: pairing of word id and word frequency in each document\n",
    "texts = text_lda['cleaned_data']\n",
    "corpus = [dictionary.doc2bow(text) for text in texts] "
   ]
  },
  {
   "cell_type": "markdown",
   "metadata": {},
   "source": [
    "Train LDA model"
   ]
  },
  {
   "cell_type": "code",
   "execution_count": null,
   "metadata": {
    "collapsed": true
   },
   "outputs": [],
   "source": [
    "lda_model = gensim.models.ldamodel.LdaModel(corpus = corpus, id2word = dictionary, num_topics = 8, passes = 20)"
   ]
  },
  {
   "cell_type": "markdown",
   "metadata": {},
   "source": [
    "Print and save topics"
   ]
  },
  {
   "cell_type": "code",
   "execution_count": 22,
   "metadata": {
    "scrolled": true
   },
   "outputs": [
    {
     "name": "stdout",
     "output_type": "stream",
     "text": [
      "(0, '0.040*\"restaurant\" + 0.035*\"great\" + 0.028*\"location\" + 0.028*\"boston\" + 0.028*\"apartment\" + 0.026*\"walking\" + 0.021*\"distance\" + 0.018*\"walk\" + 0.017*\"street\" + 0.016*\"end\"')\n",
      "(1, '0.036*\"stay\" + 0.030*\"home\" + 0.026*\"us\" + 0.024*\"house\" + 0.021*\"boston\" + 0.018*\"make\" + 0.018*\"host\" + 0.016*\"welcome\" + 0.014*\"place\" + 0.014*\"room\"')\n",
      "(2, '0.053*\"us\" + 0.027*\"check\" + 0.022*\"get\" + 0.021*\"arrive\" + 0.018*\"even\" + 0.017*\"late\" + 0.015*\"day\" + 0.015*\"early\" + 0.014*\"time\" + 0.014*\"key\"')\n",
      "(3, '0.016*\"place\" + 0.013*\"one\" + 0.012*\"stay\" + 0.012*\"would\" + 0.012*\"apartment\" + 0.012*\"night\" + 0.012*\"good\" + 0.010*\"bit\" + 0.010*\"room\" + 0.010*\"location\"')\n",
      "(4, '0.023*\"apartment\" + 0.022*\"host\" + 0.021*\"question\" + 0.019*\"need\" + 0.018*\"stay\" + 0.017*\"everything\" + 0.017*\"make\" + 0.015*\"experience\" + 0.015*\"great\" + 0.015*\"respond\"')\n",
      "(5, '0.035*\"kitchen\" + 0.028*\"bed\" + 0.023*\"bathroom\" + 0.022*\"room\" + 0.018*\"well\" + 0.018*\"clean\" + 0.017*\"comfortable\" + 0.017*\"bedroom\" + 0.015*\"space\" + 0.015*\"nice\"')\n",
      "(6, '0.063*\"stay\" + 0.059*\"great\" + 0.055*\"place\" + 0.035*\"would\" + 0.033*\"location\" + 0.031*\"recommend\" + 0.030*\"boston\" + 0.030*\"clean\" + 0.029*\"apartment\" + 0.023*\"definitely\"')\n",
      "(7, '0.036*\"walk\" + 0.028*\"place\" + 0.024*\"boston\" + 0.024*\"station\" + 0.023*\"close\" + 0.021*\"nice\" + 0.019*\"minutes\" + 0.018*\"subway\" + 0.018*\"downtown\" + 0.017*\"line\"')\n"
     ]
    }
   ],
   "source": [
    "# print topic and words contributing to each topic\n",
    "topics = lda_model.print_topics(num_words = 10)\n",
    "for topic in topics:  \n",
    "    print(topic)"
   ]
  },
  {
   "cell_type": "code",
   "execution_count": 34,
   "metadata": {
    "collapsed": true
   },
   "outputs": [],
   "source": [
    "# save lda model\n",
    "lda_model.save('topic.model')"
   ]
  },
  {
   "cell_type": "code",
   "execution_count": null,
   "metadata": {
    "collapsed": true
   },
   "outputs": [],
   "source": [
    "# load saved lda model and print topics\n",
    "loading = LdaModel.load('topic.model')\n",
    "for topic in loading.print_topics(num_words = 10):\n",
    "    print(topic)"
   ]
  },
  {
   "cell_type": "markdown",
   "metadata": {},
   "source": [
    "Visualizing topic modeling results"
   ]
  },
  {
   "cell_type": "code",
   "execution_count": 23,
   "metadata": {
    "scrolled": false
   },
   "outputs": [
    {
     "name": "stderr",
     "output_type": "stream",
     "text": [
      "C:\\Users\\Zhang\\Anaconda3\\lib\\site-packages\\pyLDAvis\\_prepare.py:387: DeprecationWarning: \n",
      ".ix is deprecated. Please use\n",
      ".loc for label based indexing or\n",
      ".iloc for positional indexing\n",
      "\n",
      "See the documentation here:\n",
      "http://pandas.pydata.org/pandas-docs/stable/indexing.html#ix-indexer-is-deprecated\n",
      "  topic_term_dists = topic_term_dists.ix[topic_order]\n"
     ]
    },
    {
     "data": {
      "text/html": [
       "\n",
       "<link rel=\"stylesheet\" type=\"text/css\" href=\"https://cdn.rawgit.com/bmabey/pyLDAvis/files/ldavis.v1.0.0.css\">\n",
       "\n",
       "\n",
       "<div id=\"ldavis_el536016929192554726197236937\"></div>\n",
       "<script type=\"text/javascript\">\n",
       "\n",
       "var ldavis_el536016929192554726197236937_data = {\"mdsDat\": {\"Freq\": [18.918190274077233, 18.758494192759347, 12.992760520204891, 12.092944618472497, 11.228792565025962, 9.588566883530275, 9.113853767433577, 7.306397178496224], \"cluster\": [1, 1, 1, 1, 1, 1, 1, 1], \"topics\": [1, 2, 3, 4, 5, 6, 7, 8], \"x\": [-0.10549973765341507, 0.03714995100831143, 0.07300802085263419, -0.21328953170090065, -0.15750656784744793, 0.12839110794634004, -0.09002464372359201, 0.32777140111807046], \"y\": [-0.12256565504814403, -0.08642480647828718, 0.17255921133484656, -0.07249279657492066, -0.08147396007466036, -0.0869308312495956, 0.31199943077788844, -0.034670592687127716]}, \"tinfo\": {\"Category\": [\"Default\", \"Default\", \"Default\", \"Default\", \"Default\", \"Default\", \"Default\", \"Default\", \"Default\", \"Default\", \"Default\", \"Default\", \"Default\", \"Default\", \"Default\", \"Default\", \"Default\", \"Default\", \"Default\", \"Default\", \"Default\", \"Default\", \"Default\", \"Default\", \"Default\", \"Default\", \"Default\", \"Default\", \"Default\", \"Default\", \"Topic1\", \"Topic1\", \"Topic1\", \"Topic1\", \"Topic1\", \"Topic1\", \"Topic1\", \"Topic1\", \"Topic1\", \"Topic1\", \"Topic1\", \"Topic1\", \"Topic1\", \"Topic1\", \"Topic1\", \"Topic1\", \"Topic1\", \"Topic1\", \"Topic1\", \"Topic1\", \"Topic1\", \"Topic1\", \"Topic1\", \"Topic1\", \"Topic1\", \"Topic1\", \"Topic1\", \"Topic1\", \"Topic1\", \"Topic1\", \"Topic1\", \"Topic1\", \"Topic1\", \"Topic1\", \"Topic1\", \"Topic1\", \"Topic1\", \"Topic1\", \"Topic1\", \"Topic1\", \"Topic1\", \"Topic1\", \"Topic1\", \"Topic1\", \"Topic1\", \"Topic1\", \"Topic1\", \"Topic1\", \"Topic1\", \"Topic1\", \"Topic1\", \"Topic1\", \"Topic1\", \"Topic1\", \"Topic1\", \"Topic1\", \"Topic1\", \"Topic1\", \"Topic1\", \"Topic1\", \"Topic1\", \"Topic1\", \"Topic1\", \"Topic1\", \"Topic1\", \"Topic1\", \"Topic1\", \"Topic1\", \"Topic1\", \"Topic1\", \"Topic1\", \"Topic1\", \"Topic2\", \"Topic2\", \"Topic2\", \"Topic2\", \"Topic2\", \"Topic2\", \"Topic2\", \"Topic2\", \"Topic2\", \"Topic2\", \"Topic2\", \"Topic2\", \"Topic2\", \"Topic2\", \"Topic2\", \"Topic2\", \"Topic2\", \"Topic2\", \"Topic2\", \"Topic2\", \"Topic2\", \"Topic2\", \"Topic2\", \"Topic2\", \"Topic2\", \"Topic2\", \"Topic2\", \"Topic2\", \"Topic2\", \"Topic2\", \"Topic2\", \"Topic2\", \"Topic2\", \"Topic2\", \"Topic2\", \"Topic2\", \"Topic2\", \"Topic2\", \"Topic2\", \"Topic2\", \"Topic2\", \"Topic2\", \"Topic2\", \"Topic2\", \"Topic2\", \"Topic2\", \"Topic2\", \"Topic2\", \"Topic2\", \"Topic2\", \"Topic2\", \"Topic2\", \"Topic2\", \"Topic2\", \"Topic2\", \"Topic2\", \"Topic2\", \"Topic2\", \"Topic2\", \"Topic2\", \"Topic2\", \"Topic2\", \"Topic2\", \"Topic2\", \"Topic2\", \"Topic2\", \"Topic2\", \"Topic2\", \"Topic3\", \"Topic3\", \"Topic3\", \"Topic3\", \"Topic3\", \"Topic3\", \"Topic3\", \"Topic3\", \"Topic3\", \"Topic3\", \"Topic3\", \"Topic3\", \"Topic3\", \"Topic3\", \"Topic3\", \"Topic3\", \"Topic3\", \"Topic3\", \"Topic3\", \"Topic3\", \"Topic3\", \"Topic3\", \"Topic3\", \"Topic3\", \"Topic3\", \"Topic3\", \"Topic3\", \"Topic3\", \"Topic3\", \"Topic3\", \"Topic3\", \"Topic3\", \"Topic3\", \"Topic3\", \"Topic3\", \"Topic3\", \"Topic3\", \"Topic3\", \"Topic3\", \"Topic3\", \"Topic3\", \"Topic3\", \"Topic3\", \"Topic3\", \"Topic3\", \"Topic3\", \"Topic3\", \"Topic3\", \"Topic3\", \"Topic3\", \"Topic3\", \"Topic3\", \"Topic3\", \"Topic3\", \"Topic3\", \"Topic3\", \"Topic3\", \"Topic3\", \"Topic3\", \"Topic3\", \"Topic3\", \"Topic3\", \"Topic3\", \"Topic3\", \"Topic3\", \"Topic3\", \"Topic3\", \"Topic4\", \"Topic4\", \"Topic4\", \"Topic4\", \"Topic4\", \"Topic4\", \"Topic4\", \"Topic4\", \"Topic4\", \"Topic4\", \"Topic4\", \"Topic4\", \"Topic4\", \"Topic4\", \"Topic4\", \"Topic4\", \"Topic4\", \"Topic4\", \"Topic4\", \"Topic4\", \"Topic4\", \"Topic4\", \"Topic4\", \"Topic4\", \"Topic4\", \"Topic4\", \"Topic4\", \"Topic4\", \"Topic4\", \"Topic4\", \"Topic4\", \"Topic4\", \"Topic4\", \"Topic4\", \"Topic4\", \"Topic4\", \"Topic4\", \"Topic4\", \"Topic4\", \"Topic4\", \"Topic4\", \"Topic4\", \"Topic4\", \"Topic4\", \"Topic4\", \"Topic4\", \"Topic4\", \"Topic4\", \"Topic4\", \"Topic4\", \"Topic4\", \"Topic4\", \"Topic4\", \"Topic4\", \"Topic4\", \"Topic4\", \"Topic4\", \"Topic4\", \"Topic4\", \"Topic5\", \"Topic5\", \"Topic5\", \"Topic5\", \"Topic5\", \"Topic5\", \"Topic5\", \"Topic5\", \"Topic5\", \"Topic5\", \"Topic5\", \"Topic5\", \"Topic5\", \"Topic5\", \"Topic5\", \"Topic5\", \"Topic5\", \"Topic5\", \"Topic5\", \"Topic5\", \"Topic5\", \"Topic5\", \"Topic5\", \"Topic5\", \"Topic5\", \"Topic5\", \"Topic5\", \"Topic5\", \"Topic5\", \"Topic5\", \"Topic5\", \"Topic5\", \"Topic5\", \"Topic5\", \"Topic5\", \"Topic5\", \"Topic5\", \"Topic5\", \"Topic5\", \"Topic5\", \"Topic5\", \"Topic5\", \"Topic5\", \"Topic5\", \"Topic5\", \"Topic5\", \"Topic5\", \"Topic5\", \"Topic5\", \"Topic5\", \"Topic5\", \"Topic5\", \"Topic5\", \"Topic5\", \"Topic5\", \"Topic5\", \"Topic5\", \"Topic5\", \"Topic5\", \"Topic6\", \"Topic6\", \"Topic6\", \"Topic6\", \"Topic6\", \"Topic6\", \"Topic6\", \"Topic6\", \"Topic6\", \"Topic6\", \"Topic6\", \"Topic6\", \"Topic6\", \"Topic6\", \"Topic6\", \"Topic6\", \"Topic6\", \"Topic6\", \"Topic6\", \"Topic6\", \"Topic6\", \"Topic6\", \"Topic6\", \"Topic6\", \"Topic6\", \"Topic6\", \"Topic6\", \"Topic6\", \"Topic6\", \"Topic6\", \"Topic6\", \"Topic6\", \"Topic6\", \"Topic6\", \"Topic6\", \"Topic6\", \"Topic6\", \"Topic6\", \"Topic6\", \"Topic6\", \"Topic6\", \"Topic6\", \"Topic6\", \"Topic6\", \"Topic6\", \"Topic6\", \"Topic6\", \"Topic6\", \"Topic6\", \"Topic6\", \"Topic6\", \"Topic6\", \"Topic6\", \"Topic6\", \"Topic6\", \"Topic6\", \"Topic6\", \"Topic6\", \"Topic6\", \"Topic6\", \"Topic6\", \"Topic6\", \"Topic6\", \"Topic6\", \"Topic6\", \"Topic6\", \"Topic6\", \"Topic6\", \"Topic7\", \"Topic7\", \"Topic7\", \"Topic7\", \"Topic7\", \"Topic7\", \"Topic7\", \"Topic7\", \"Topic7\", \"Topic7\", \"Topic7\", \"Topic7\", \"Topic7\", \"Topic7\", \"Topic7\", \"Topic7\", \"Topic7\", \"Topic7\", \"Topic7\", \"Topic7\", \"Topic7\", \"Topic7\", \"Topic7\", \"Topic7\", \"Topic7\", \"Topic7\", \"Topic7\", \"Topic7\", \"Topic7\", \"Topic7\", \"Topic7\", \"Topic7\", \"Topic7\", \"Topic7\", \"Topic7\", \"Topic7\", \"Topic7\", \"Topic7\", \"Topic7\", \"Topic7\", \"Topic7\", \"Topic7\", \"Topic7\", \"Topic7\", \"Topic7\", \"Topic7\", \"Topic7\", \"Topic7\", \"Topic7\", \"Topic7\", \"Topic7\", \"Topic7\", \"Topic7\", \"Topic7\", \"Topic7\", \"Topic7\", \"Topic7\", \"Topic7\", \"Topic7\", \"Topic7\", \"Topic7\", \"Topic7\", \"Topic7\", \"Topic8\", \"Topic8\", \"Topic8\", \"Topic8\", \"Topic8\", \"Topic8\", \"Topic8\", \"Topic8\", \"Topic8\", \"Topic8\", \"Topic8\", \"Topic8\", \"Topic8\", \"Topic8\", \"Topic8\", \"Topic8\", \"Topic8\", \"Topic8\", \"Topic8\", \"Topic8\", \"Topic8\", \"Topic8\", \"Topic8\", \"Topic8\", \"Topic8\", \"Topic8\", \"Topic8\", \"Topic8\", \"Topic8\", \"Topic8\", \"Topic8\", \"Topic8\", \"Topic8\", \"Topic8\", \"Topic8\", \"Topic8\", \"Topic8\", \"Topic8\", \"Topic8\", \"Topic8\", \"Topic8\", \"Topic8\", \"Topic8\", \"Topic8\", \"Topic8\", \"Topic8\", \"Topic8\", \"Topic8\", \"Topic8\", \"Topic8\", \"Topic8\", \"Topic8\", \"Topic8\", \"Topic8\", \"Topic8\", \"Topic8\"], \"Freq\": [27913.0, 13713.0, 16248.0, 18015.0, 59590.0, 9126.0, 21935.0, 68869.0, 55599.0, 45769.0, 28178.0, 14029.0, 35988.0, 18093.0, 15111.0, 9529.0, 40074.0, 17328.0, 7574.0, 13665.0, 7325.0, 9237.0, 23780.0, 28905.0, 18256.0, 5666.0, 5945.0, 5881.0, 25197.0, 35236.0, 325.8275913504059, 300.1233781439719, 309.8668809152464, 224.2509275946851, 164.06139901438854, 133.38076141401234, 205.5125045030747, 119.56179770749218, 127.65103224339093, 94.65336675414319, 93.71630564984288, 92.90270521734891, 86.8343211800761, 82.1845581963512, 80.23553552318816, 76.50073878855967, 74.6480077773539, 73.17672966442942, 72.57093501978554, 67.58316609827759, 67.4846383681716, 67.35472749978237, 66.48542864249274, 64.37260224980498, 64.27048586487288, 60.80621819335044, 59.45735699314889, 58.26059533758167, 55.31997026149752, 55.37391736019068, 12311.449217945603, 7006.475296605556, 16657.75123380669, 3270.00529498085, 102.80123162237528, 18850.367480798228, 148.84373558873645, 5287.793412274494, 31643.17418218448, 29322.99134188664, 996.1700490385309, 33643.53885646321, 9272.351015601442, 17862.465442289613, 2368.1721777797366, 9904.237479446645, 2283.1370392515983, 16023.912291546641, 3138.055883008309, 15767.026778073754, 2729.863299962474, 3216.765231654207, 8539.302952286811, 16326.110115459029, 2640.6422418599104, 2667.242383462496, 10291.464687529977, 3136.778415711255, 1430.7463598185716, 7771.678707919911, 1834.9306577946645, 5918.223273181301, 4204.418081477381, 6293.130652701854, 4954.306896593678, 7091.25248981774, 4661.463655963089, 3583.5674739723772, 3301.440597763003, 4099.939470369813, 4112.103931288354, 3355.4985303795147, 16247.897927672642, 4568.624386512397, 1419.8080240559252, 862.5741883231433, 842.6501545597704, 748.7708090306572, 686.0010633523768, 684.0673613128499, 659.1946777166431, 676.1665893118426, 461.0139100657322, 425.07135752292123, 422.92573528489334, 409.7024296592279, 402.3084799766725, 400.671199531742, 397.9411067199144, 354.08202925528275, 342.1852560047236, 323.36529112449824, 310.0855478691471, 300.17677461942236, 297.51158508173324, 284.19391697962084, 264.98583486140325, 262.2626572096965, 257.41595172169315, 243.07491744591502, 234.6118157873693, 230.02878566486996, 6463.4020750581685, 1165.0877598987322, 8390.216987220934, 2893.5292412274907, 963.6589446400377, 12826.436957948303, 4810.098552924244, 1293.7087458361304, 870.6094183254238, 13706.839173295415, 9545.589288256459, 3076.245757237976, 3371.983650263247, 3060.9738586837802, 4251.050960619861, 4890.371964304235, 5466.552284438735, 4760.397715641846, 2411.0361306036793, 4598.5559283677585, 3967.695607586372, 19107.12896701081, 4194.085918183811, 9369.191305995839, 6138.680544278762, 5904.342575034115, 7231.864283183021, 10930.524562948984, 3750.9349210395194, 6025.066510132902, 2693.270917600728, 3586.7267225585233, 5346.478312371932, 7400.311381789024, 4377.7525709929605, 5401.073222438677, 4176.3687197798945, 4135.5383894191245, 2776.5436142229223, 2279.8233522960845, 2232.2226978102276, 1332.684128896992, 1232.3183945399292, 1076.0980490819138, 1035.6277759651175, 1033.1640378300424, 942.4460329292126, 907.1131224815618, 830.9899115588433, 819.141338924934, 788.1791001007333, 657.2771284378563, 646.0878551186788, 613.5445093178469, 596.9193243174449, 557.1987743528518, 549.2871396193767, 494.0273498378859, 488.7348705525364, 467.42255197588065, 446.9286443025526, 443.7773843058483, 435.91845743393003, 435.0611277673012, 431.4306858670372, 430.3998541198635, 419.2132441156139, 413.5863469800437, 3840.491534690381, 3607.776574747282, 1613.233255905755, 790.1298494153415, 1170.1140110839442, 1608.8996129511413, 796.6534245477656, 766.9832371171346, 1274.9262785832102, 2330.069623552577, 2368.253655587235, 1947.4107204759018, 4842.212046914736, 2078.5284636046313, 3559.5891318434396, 2447.2164757034016, 2726.2839404784054, 4479.407039751538, 2338.351845671262, 3221.2319811041884, 2464.2893553518447, 1711.0454726406574, 4268.379023699389, 2264.9015719755353, 2999.8479656517547, 4570.810977116379, 2822.1435178042348, 5925.325181603348, 4540.725140730226, 3664.5405790260343, 4585.854067136224, 3614.6991316385825, 2774.5416605309906, 2261.3033475945604, 2247.2207692164534, 2396.2548896053063, 2188.626294361772, 13712.158544385236, 7325.110256971986, 5340.270585991119, 4647.938181407273, 4300.818495077229, 3770.20254881389, 2279.2757658500414, 1748.0452206000368, 1741.4938161012783, 1660.3082166246827, 1567.765090154597, 1533.2520705560478, 1481.4715861671789, 1406.6920176585381, 1171.1113323074485, 1152.3196044565243, 1085.2833754577307, 990.025570221279, 768.1310271500016, 734.0662026230445, 729.9642381658578, 687.7122770465672, 603.9796821336912, 536.8960747977133, 512.7961740047795, 467.13992942734603, 413.4974563962723, 396.2097608560662, 321.31498502371517, 292.8655529686617, 8922.147722906755, 1252.5963948604247, 5609.6616522085405, 4490.320329079545, 1560.6035646217176, 5928.373527453158, 3128.40991591047, 2457.6601231006002, 2567.3083885812857, 1198.7190292293863, 2584.093513911865, 9771.854571112188, 6135.313148369342, 9643.050744136377, 3475.579819279757, 11967.901351783677, 5596.396037650674, 9734.496932160058, 4454.683183465574, 2266.595643587303, 3698.8812390842354, 2891.5703661504467, 3862.0629474478915, 3871.2449891393776, 2780.2209584836683, 2286.6160896309275, 3055.193792547194, 2381.3740434146544, 2291.7732516197343, 7574.091305314497, 5944.705518715563, 5880.752504223574, 5568.360685798227, 4545.92563243066, 4419.765056357393, 4025.3800157316236, 3320.264262368717, 3280.444354421856, 2490.7069530869085, 2233.4099088073035, 1995.0954445495042, 1422.2275231485742, 1207.4062105848982, 1179.4208267994063, 737.0497157510725, 613.4993743671068, 529.6409351099378, 481.4354579598277, 454.9141593036482, 440.30018626276626, 427.3525906115009, 362.2599976239526, 359.91861970637603, 353.76479930624583, 339.71285645966515, 296.0813598973799, 269.4712961844216, 252.94937560567556, 239.57438233158882, 1572.0264083279274, 1552.9392852697815, 4820.499601454511, 2484.7297346838914, 4438.599137748034, 961.2777483552031, 2771.8053579696198, 5836.236178567493, 11526.074090609307, 2790.7944719311968, 913.606792027971, 7191.903942252609, 3313.7879400663546, 3732.0031500296764, 1147.1921688776938, 6774.137495152668, 3055.8692805166934, 8851.219330965561, 7771.773871110226, 4172.414450393211, 4739.054339203087, 4726.901211228554, 4213.238803081272, 5417.405887273886, 3915.524292362998, 4868.928866041787, 4005.134009355867, 3121.1103721354066, 3052.2714556808305, 5665.352045206077, 4039.3951535530177, 2507.529787550421, 1353.9111981832004, 1098.3651192063994, 917.0901941047555, 899.0266693658954, 2106.266406292859, 755.0825088160236, 627.0935804771019, 466.287105824949, 423.45326789973427, 389.45010820608525, 380.42218174721506, 432.6935326142273, 350.7528084427753, 315.2938731390251, 282.7572042436529, 269.2822210779652, 201.81795389487243, 201.71955169340134, 230.527889884099, 181.85422685054283, 204.00198188003606, 169.86765623645576, 168.74229201322072, 165.47289155003978, 165.29978419787068, 208.40248458142185, 158.84207632285, 908.7675996628088, 1588.3161474859567, 2221.86185633181, 2156.5187367322646, 1560.5078882413632, 502.2572633905944, 1089.0990809771527, 1094.4366395651953, 1262.4510437733654, 1740.6242415469496, 2633.148820601594, 2667.7004204000914, 1536.2374163921847, 3846.8892529632412, 2784.4594511100463, 2531.2297548835963, 4126.202380155406, 3238.6893389929514, 1379.0254435486013, 1182.096896591934, 1919.7747062331994, 2807.872073870369, 5286.773414754657, 2232.112170189689, 6118.127457250227, 4576.34654776589, 4744.115707312147, 6242.245095887202, 3379.8295440287393, 2199.475609111058, 3206.7677155585134, 5002.601044830054, 4121.1841214943015, 2975.475369912084, 3204.1009651758627, 3060.0629674751035, 2327.94399456823, 1921.6004728527623, 9126.059284100204, 3532.3765309542005, 2845.1627667108305, 2411.155781817469, 1123.794765833164, 1110.1234057543595, 988.725240468777, 963.1283824505113, 913.7174104183315, 839.738415661047, 827.8637206827, 823.8000261739636, 812.7041291392388, 786.6008083864531, 772.3021552800877, 676.2525583333062, 656.2594537457971, 597.5438862401578, 566.2555899650138, 521.5861673723034, 500.4785313935267, 439.7643826294087, 425.4367423056107, 423.0352628306121, 417.20416162903473, 395.84847702873446, 396.0301141874497, 387.6828803275772, 361.18006630169134, 351.68883171723604, 786.9425080181437, 1801.9537911591574, 1611.000586718192, 4378.1970192658855, 2800.507747330109, 6025.030145773796, 858.6488085055306, 799.4229816027969, 7304.189647423701, 2028.9622729275357, 1875.9668956151254, 2358.674575316839, 913.6352096603728, 3812.196830189603, 2397.3050746303907, 5804.176716947763, 4714.092457847687, 1389.6087549804258, 1599.2257499919986, 2528.6344052431696, 1705.8472442737605, 1945.8460974369746, 4493.797319213538, 1782.1405157958043, 4654.943106576808, 2320.059985827408, 3796.381982897399, 1908.987856107331, 2963.176056650175, 1675.229028810745, 2290.04200463805, 2271.5697346017487, 1703.1093081772929, 3596.424526584144, 3018.516823469192, 2959.8847331583283, 2880.9929383674425, 2065.559931192864, 1874.6149799637744, 1681.9815911937449, 1245.652767448773, 1110.9104464703516, 952.6620872553016, 849.209584675346, 801.9428511608186, 693.5206954043946, 522.5470692435758, 378.6322393378509, 335.27394305594635, 308.97312713105185, 292.5960366644234, 289.31027962083556, 273.16982550179563, 270.0669809147146, 268.5726402554484, 266.3149565394451, 260.9695260025146, 230.86228543134524, 229.38333241534303, 213.01694324536442, 208.79075238716172, 203.74517556425897, 198.18583987646116, 1302.434378914121, 4262.254855979699, 1358.0576414472964, 574.4429952686967, 11001.97496760697, 5694.788884076025, 1989.9056772195777, 1035.4215190755558, 3102.2236703111307, 2101.168048901284, 1997.6200801263847, 847.6515918339753, 3681.7856054680246, 626.8545160470769, 4474.671391260658, 1716.749838288347, 2748.576494695188, 1879.0406304301885, 1943.8395663824535, 2988.168622550207, 1388.7598789434815, 1598.8963375016783, 1774.2083128059032, 1351.272777807048, 1363.9976099371515, 1319.6026406400613], \"Term\": [\"us\", \"restaurant\", \"home\", \"walk\", \"great\", \"kitchen\", \"recommend\", \"stay\", \"place\", \"boston\", \"would\", \"check\", \"location\", \"house\", \"definitely\", \"walking\", \"apartment\", \"close\", \"station\", \"bed\", \"distance\", \"bathroom\", \"room\", \"host\", \"make\", \"question\", \"minutes\", \"subway\", \"nice\", \"clean\", \"penthouse\", \"riyo\", \"liri\", \"handle\", \"support\", \"roslindale\", \"coe\", \"impeccable\", \"yu\", \"artwork\", \"massachusetts\", \"en\", \"computer\", \"hook\", \"representation\", \"recommendable\", \"nap\", \"sometime\", \"entirely\", \"definetely\", \"hitch\", \"piano\", \"explanation\", \"anniversary\", \"effortless\", \"scenery\", \"maneuver\", \"drawer\", \"ms\", \"appt\", \"definitely\", \"highly\", \"recommend\", \"anyone\", \"reccomend\", \"would\", \"compact\", \"super\", \"great\", \"place\", \"communicative\", \"stay\", \"perfect\", \"location\", \"awesome\", \"everything\", \"looking\", \"clean\", \"communication\", \"apartment\", \"exactly\", \"amaze\", \"easy\", \"boston\", \"fantastic\", \"responsive\", \"host\", \"accommodate\", \"visiting\", \"comfortable\", \"absolutely\", \"really\", \"helpful\", \"need\", \"check\", \"nice\", \"time\", \"back\", \"love\", \"well\", \"close\", \"beautiful\", \"home\", \"breakfast\", \"dog\", \"generous\", \"invite\", \"treat\", \"fruit\", \"muffin\", \"chat\", \"afeng\", \"porch\", \"carney\", \"chocolate\", \"cookie\", \"juice\", \"milk\", \"dorchester\", \"flower\", \"bagel\", \"bread\", \"margrit\", \"graduation\", \"bake\", \"cereal\", \"comforts\", \"cream\", \"granola\", \"yard\", \"victorian\", \"ice\", \"feel\", \"sweet\", \"welcome\", \"warm\", \"hospitality\", \"house\", \"felt\", \"tip\", \"delicious\", \"us\", \"make\", \"thank\", \"family\", \"give\", \"lovely\", \"wonderful\", \"like\", \"enjoy\", \"kind\", \"beautiful\", \"friendly\", \"stay\", \"love\", \"host\", \"really\", \"time\", \"room\", \"boston\", \"even\", \"comfortable\", \"visit\", \"experience\", \"nice\", \"place\", \"recommend\", \"great\", \"would\", \"clean\", \"noise\", \"however\", \"stairs\", \"hear\", \"noisy\", \"hard\", \"review\", \"loud\", \"bad\", \"pay\", \"smell\", \"otherwise\", \"difficult\", \"break\", \"bother\", \"aware\", \"dirty\", \"sleeper\", \"steep\", \"narrow\", \"downside\", \"sink\", \"except\", \"staircase\", \"uncomfortable\", \"dark\", \"challenge\", \"previous\", \"negative\", \"low\", \"bit\", \"issue\", \"thing\", \"wall\", \"may\", \"fine\", \"mind\", \"probably\", \"seem\", \"problem\", \"door\", \"say\", \"one\", \"sleep\", \"little\", \"floor\", \"people\", \"night\", \"building\", \"parking\", \"overall\", \"price\", \"good\", \"small\", \"like\", \"would\", \"street\", \"place\", \"apartment\", \"room\", \"stay\", \"location\", \"get\", \"could\", \"bathroom\", \"bed\", \"nice\", \"restaurant\", \"distance\", \"public\", \"shop\", \"north\", \"transportation\", \"bars\", \"transit\", \"shopping\", \"trail\", \"transport\", \"freedom\", \"attraction\", \"jamaica\", \"plain\", \"historic\", \"newbury\", \"italian\", \"loft\", \"bakery\", \"sights\", \"commons\", \"river\", \"italy\", \"historical\", \"parks\", \"pub\", \"pond\", \"lively\", \"sight\", \"walking\", \"cafe\", \"end\", \"within\", \"fenway\", \"street\", \"many\", \"nearby\", \"block\", \"steps\", \"food\", \"location\", \"walk\", \"apartment\", \"right\", \"great\", \"close\", \"boston\", \"neighborhood\", \"lots\", \"area\", \"parking\", \"perfect\", \"easy\", \"away\", \"locate\", \"place\", \"quiet\", \"around\", \"station\", \"minutes\", \"subway\", \"line\", \"train\", \"10\", \"bus\", \"min\", \"center\", \"ride\", \"15\", \"metro\", \"convention\", \"green\", \"stops\", \"supermarket\", \"blue\", \"lyft\", \"stations\", \"shuttle\", \"maverick\", \"attending\", \"commuter\", \"td\", \"rail\", \"hynes\", \"huggy\", \"euphy\", \"crossing\", \"southie\", \"20\", \"orange\", \"airport\", \"uber\", \"minute\", \"red\", \"stop\", \"downtown\", \"walk\", \"near\", \"drive\", \"close\", \"take\", \"away\", \"le\", \"nice\", \"convenient\", \"place\", \"boston\", \"good\", \"easy\", \"room\", \"house\", \"clean\", \"get\", \"stay\", \"great\", \"really\", \"also\", \"question\", \"respond\", \"answer\", \"detail\", \"prompt\", \"reply\", \"expectation\", \"clear\", \"promptly\", \"ensure\", \"possibly\", \"timely\", \"exceed\", \"thorough\", \"meri\", \"inquiry\", \"readily\", \"query\", \"sonder\", \"toddler\", \"yasmina\", \"nitzan\", \"assist\", \"tyree\", \"depict\", \"binder\", \"confirm\", \"kindness\", \"kierstyn\", \"therefore\", \"response\", \"message\", \"quickly\", \"instructions\", \"accurate\", \"smoothly\", \"text\", \"email\", \"description\", \"information\", \"always\", \"available\", \"anything\", \"airbnb\", \"quick\", \"sure\", \"experience\", \"provide\", \"listing\", \"contact\", \"arrival\", \"first\", \"need\", \"exactly\", \"host\", \"make\", \"everything\", \"apartment\", \"check\", \"meet\", \"well\", \"stay\", \"great\", \"easy\", \"us\", \"clean\", \"helpful\", \"location\", \"kitchen\", \"towel\", \"large\", \"tv\", \"dryer\", \"bath\", \"linen\", \"laundry\", \"cooking\", \"soap\", \"shampoo\", \"closet\", \"renovate\", \"washer\", \"toiletry\", \"machine\", \"appliance\", \"conditioning\", \"cable\", \"microwave\", \"furnishing\", \"refrigerator\", \"newly\", \"chair\", \"wash\", \"utensil\", \"netflix\", \"queen\", \"tub\", \"natural\", \"table\", \"stock\", \"fridge\", \"bedroom\", \"living\", \"bathroom\", \"couch\", \"supply\", \"bed\", \"shower\", \"water\", \"unit\", \"fully\", \"space\", \"coffee\", \"room\", \"well\", \"wifi\", \"equip\", \"use\", \"etc\", \"floor\", \"comfortable\", \"plenty\", \"clean\", \"provide\", \"nice\", \"two\", \"apartment\", \"small\", \"need\", \"great\", \"spacious\", \"late\", \"early\", \"key\", \"flight\", \"let\", \"leave\", \"luggage\", \"hours\", \"bag\", \"schedule\", \"drop\", \"later\", \"delay\", \"earlier\", \"midnight\", \"resolve\", \"24\", \"hold\", \"hop\", \"pm\", \"understanding\", \"memory\", \"cancel\", \"yes\", \"manager\", \"name\", \"country\", \"smoke\", \"authentic\", \"tall\", \"allow\", \"arrive\", \"last\", \"leaving\", \"us\", \"check\", \"left\", \"call\", \"day\", \"able\", \"arrival\", \"due\", \"even\", \"change\", \"get\", \"morning\", \"night\", \"meet\", \"accommodate\", \"time\", \"help\", \"around\", \"make\", \"come\", \"go\", \"back\"], \"Total\": [27913.0, 13713.0, 16248.0, 18015.0, 59590.0, 9126.0, 21935.0, 68869.0, 55599.0, 45769.0, 28178.0, 14029.0, 35988.0, 18093.0, 15111.0, 9529.0, 40074.0, 17328.0, 7574.0, 13665.0, 7325.0, 9237.0, 23780.0, 28905.0, 18256.0, 5666.0, 5945.0, 5881.0, 25197.0, 35236.0, 326.72097178813846, 301.0264756187932, 311.04157925034616, 225.14496519335916, 164.95209826781465, 134.2705242892368, 207.0135437789707, 120.44979032386756, 128.70164085919316, 95.54422326165204, 94.60776887112729, 93.79219486469528, 87.72647470689597, 83.07547085740197, 81.1283736989047, 77.38892115177045, 75.54693977447954, 74.0671519416748, 73.46065114579054, 68.47196556545421, 68.37394059105723, 68.24870567795847, 67.37513758091629, 65.26162835405988, 65.15814680892173, 61.697467836793166, 60.35417692248417, 59.15698694857864, 56.209028899545515, 56.264467831553155, 15111.302085473579, 8708.767169831823, 21935.15616405671, 4011.9221797784817, 107.46922705603257, 28178.90793203581, 159.85082350181608, 8044.225869418171, 59590.41153166614, 55599.758734180075, 1350.2704328879822, 68869.76670494578, 16335.772473171717, 35988.73359934709, 3854.302165080551, 20054.322914665736, 3745.5176317200667, 35236.283896184985, 5498.139037694885, 40074.11275423773, 5127.952237926784, 6422.696414728053, 20894.23977601126, 45769.81986726578, 5110.117745379367, 5297.924502789878, 28905.265740677296, 6605.707432838746, 2471.8689799137596, 22791.10535652399, 3438.681519256478, 17116.73908803669, 10728.640398181968, 19676.591842203718, 14029.559151741661, 25197.251677336004, 16221.67763804964, 10446.557322913215, 9126.088098414077, 16853.51604834755, 17328.46016975698, 9756.086065263333, 16248.771293074713, 4569.497818151374, 1420.6811894930224, 863.4476394625825, 843.5235195828426, 749.644398741777, 686.8745973797029, 684.9401891323038, 660.0676850958714, 677.1880544281994, 461.8879375727636, 425.94443193909666, 423.7992283026913, 410.5757241562652, 403.1817367754392, 401.544578043267, 398.8152777169284, 354.95585069433724, 343.0588285042786, 324.23863021453053, 310.98654325959166, 301.05050144024625, 298.3846518780964, 285.06691613579306, 265.86019084111115, 263.13603647112325, 258.2888359529844, 243.9483971795284, 235.4850321022853, 230.90306656598204, 7024.297343781822, 1216.7351471297493, 10069.037381619213, 3380.132165372324, 1080.8097252024086, 18093.90110190891, 6311.998920091474, 1609.5469512473019, 1041.0386587923938, 27913.53533938912, 18256.20807827652, 4902.076664113953, 5613.239045749326, 5080.268241502425, 7732.6283754217775, 9308.307267261853, 10741.261130888439, 9696.4179531817, 4053.589115444633, 9756.086065263333, 8063.217783419349, 68869.76670494578, 9126.088098414077, 28905.265740677296, 17116.73908803669, 16221.67763804964, 23780.775669715356, 45769.81986726578, 9979.827816333382, 22791.10535652399, 5856.070583712452, 10211.911149078653, 25197.251677336004, 55599.758734180075, 21935.15616405671, 59590.41153166614, 28178.90793203581, 35236.283896184985, 2777.426105055828, 2280.706140821965, 2233.1054302278058, 1333.5666035453153, 1233.200744526468, 1076.98116938404, 1036.5104570024446, 1034.0462791736845, 943.3286200361492, 907.9958066733068, 831.8728110600382, 820.0240198701872, 789.0618912779056, 658.1596670410202, 646.9704854703591, 614.4272188729359, 597.8014805416788, 558.0811012740646, 550.1695567296579, 494.9097163690686, 489.61740698861513, 468.3050576953959, 447.8114560303994, 444.660800474607, 436.800747807134, 435.9439375448303, 432.3131674910586, 431.28278170994827, 420.0956915210203, 414.46904555396117, 4206.459482258066, 4120.8018397280775, 1883.3706649644143, 885.0743678280472, 1418.0176076240894, 2124.8459472492764, 909.9192449804535, 870.7247374138259, 1633.2312914816018, 3651.4711250313667, 3932.090560765834, 3081.2379170795084, 11005.738155616595, 3457.4272023094895, 7336.753931539875, 4393.817656118778, 5315.246367256218, 11271.735033453126, 4334.064954559904, 7209.322054737753, 5199.820418950695, 2942.3569522348007, 15742.40833301777, 5284.761200852456, 10741.261130888439, 28178.90793203581, 10032.799282751646, 55599.758734180075, 40074.11275423773, 23780.775669715356, 68869.76670494578, 35988.73359934709, 16296.861231248211, 8475.142816338794, 9237.929783376861, 13665.216823232468, 25197.251677336004, 13713.043428845409, 7325.9949334543035, 5341.155412716776, 4648.823060540016, 4301.703242935711, 3771.0876380936497, 2280.160580842052, 1748.9302909144724, 1742.3785442891444, 1661.192727802911, 1568.650219696198, 1534.136607444116, 1482.35645083247, 1407.576673725674, 1171.9960277025266, 1153.204607871748, 1086.1681314559899, 990.9101877654055, 769.0166929571308, 734.9509711869035, 730.8491317686185, 688.5969301226136, 604.8646009038928, 537.7806452170728, 513.6809315324858, 468.02455169120884, 414.3823215346812, 397.09447462923316, 322.2000398539615, 293.75098812730073, 9529.925100985223, 1315.9338617172264, 6593.869254663475, 5288.010075435926, 1996.0666611873837, 10032.799282751646, 4841.2728370585855, 3583.2929622529196, 3863.7201307022556, 1474.2273032325566, 4654.637729229211, 35988.73359934709, 18015.973206586663, 40074.11275423773, 7574.8724438624895, 59590.41153166614, 17328.46016975698, 45769.81986726578, 14167.622391811406, 4051.8347297837336, 12887.291773021007, 7209.322054737753, 16335.772473171717, 20894.23977601126, 7946.917181413757, 7835.786348438109, 55599.758734180075, 10527.314383860821, 8727.864586619862, 7574.969634215148, 5945.584227904589, 5881.631013839856, 5569.239136430896, 4546.804156988819, 4420.643616005856, 4026.2583362736323, 3321.1424653709873, 3281.3229108094815, 2491.5853248920716, 2234.288207434935, 1995.9738697861067, 1423.1057680709691, 1208.2847754780867, 1180.299633863809, 737.9282806760551, 614.3775902189146, 530.5193114666173, 482.3139803344965, 455.79225833969497, 441.178587629896, 428.23154263593403, 363.1384988648236, 360.7984991180116, 354.64327924715695, 340.59114828134994, 296.9650045549877, 270.40134987807994, 253.82789131872389, 240.45364757361313, 1589.182495555962, 1657.944945010952, 5576.522011584893, 2835.859678644244, 5364.336247582221, 1039.9028114212194, 3297.8433818653552, 7445.543739536097, 18015.973206586663, 4728.460710928519, 1134.9150221847522, 17328.46016975698, 6419.718620407275, 7946.917181413757, 1545.6177380304644, 25197.251677336004, 8374.797401536973, 55599.758734180075, 45769.81986726578, 15742.40833301777, 20894.23977601126, 23780.775669715356, 18093.90110190891, 35236.283896184985, 16296.861231248211, 68869.76670494578, 59590.41153166614, 17116.73908803669, 14047.631269322026, 5666.235099403867, 4040.278298164695, 2508.412785761964, 1354.794347783028, 1099.2483448365251, 917.9733470986794, 899.9099008272055, 2108.526938684526, 755.9656336802391, 627.9771695016378, 467.17088511786596, 424.33619323988523, 390.3330515977093, 381.3055613495899, 433.725548048666, 351.6360819804851, 316.1771870192106, 283.640129009856, 270.1653596783836, 202.70297783395296, 202.63059190202674, 231.6093102890971, 182.73777864793706, 205.04820336632682, 170.75101409450517, 169.62581261106286, 166.35678909704868, 166.18463715488102, 209.55124275777584, 159.72720251813476, 915.8254333001726, 1679.6621597556432, 2429.266346996309, 2355.3861836691704, 1688.1668977125287, 530.874832134871, 1213.7262162701434, 1231.7178398442356, 1707.356291790326, 2540.048707020263, 4294.790198847392, 4454.059315701366, 2319.7379173356553, 7319.329984600326, 5209.197983630121, 5112.883105923623, 10211.911149078653, 7955.557179969497, 2315.825050720693, 1854.497689709861, 3918.147825510793, 7120.659412756326, 19676.591842203718, 5127.952237926784, 28905.265740677296, 18256.20807827652, 20054.322914665736, 40074.11275423773, 14029.559151741661, 5826.065709902185, 16853.51604834755, 68869.76670494578, 59590.41153166614, 20894.23977601126, 27913.53533938912, 35236.283896184985, 10728.640398181968, 35988.73359934709, 9126.938017217413, 3533.255182398813, 2846.0416887942047, 2412.034399606128, 1124.6731472973775, 1111.0019842303145, 989.6038974644326, 964.0072668610153, 914.5961977512229, 840.6169571833021, 828.7421369782221, 824.6785441492294, 813.5831118845937, 787.4793060264305, 773.1807883502032, 677.1312457657699, 657.1381665089489, 598.4225534177453, 567.1341195781084, 522.464517356781, 501.35794535234373, 440.64326739840595, 426.31553380521456, 423.9137556590753, 418.082671252171, 396.726814241171, 396.90891221006274, 388.5613321168555, 362.0586947557244, 352.5675354492481, 838.0360429565363, 2057.7994878912887, 1863.23810420329, 5665.341827832038, 3471.909860234866, 9237.929783376861, 970.9309551757789, 898.8549034983657, 13665.216823232468, 2899.369176671369, 2672.285946103698, 4146.961264792901, 1105.6950678769276, 8861.090581557275, 5273.61763919208, 23780.775669715356, 16853.51604834755, 2210.662134513793, 2828.892783310107, 6560.326585974289, 3240.460362537344, 4393.817656118778, 22791.10535652399, 3759.5417764919507, 35236.283896184985, 7955.557179969497, 25197.251677336004, 6647.416908713168, 40074.11275423773, 5284.761200852456, 19676.591842203718, 59590.41153166614, 6609.024163914326, 3597.3003528593385, 3019.392561360124, 2960.760721922223, 2881.8687875557744, 2066.435820343265, 1875.4910891393624, 1682.8576082400507, 1246.52875841934, 1111.786129534424, 953.5381229560636, 850.0852941095411, 802.8186283399878, 694.3963463841906, 523.4228517929604, 379.50817426126844, 336.15059673577025, 309.84920135528324, 293.47212398361796, 290.18662978519484, 274.0455045368901, 270.94274178201835, 269.4496404964478, 267.1906224082783, 261.8458868446538, 231.73840952283612, 230.2601013237385, 213.8934290900496, 209.6671940690735, 204.62227052605564, 199.06235688123746, 1583.9297618921044, 5946.054729775965, 1711.339173851963, 688.7913049515976, 27913.53533938912, 14029.559151741661, 3674.111827089947, 1586.7554500168148, 6835.580471026949, 4087.998686473431, 3918.147825510793, 1264.6972421602081, 9979.827816333382, 862.3998075459014, 16296.861231248211, 3885.579479951143, 11271.735033453126, 5826.065709902185, 6605.707432838746, 16221.67763804964, 4956.005780240888, 8727.864586619862, 18256.20807827652, 6781.906827047098, 9449.725704437276, 10446.557322913215], \"loglift\": [30.0, 29.0, 28.0, 27.0, 26.0, 25.0, 24.0, 23.0, 22.0, 21.0, 20.0, 19.0, 18.0, 17.0, 16.0, 15.0, 14.0, 13.0, 12.0, 11.0, 10.0, 9.0, 8.0, 7.0, 6.0, 5.0, 4.0, 3.0, 2.0, 1.0, 1.6623, 1.662, 1.6613, 1.6611, 1.6596, 1.6584, 1.6578, 1.6576, 1.6568, 1.6557, 1.6556, 1.6555, 1.6548, 1.6543, 1.654, 1.6535, 1.6531, 1.653, 1.6529, 1.652, 1.652, 1.6519, 1.6518, 1.6513, 1.6513, 1.6505, 1.6501, 1.6498, 1.6491, 1.6491, 1.4601, 1.4476, 1.3898, 1.4606, 1.6206, 1.263, 1.5937, 1.2455, 1.0321, 1.0252, 1.3609, 0.9487, 1.0987, 0.9645, 1.178, 0.9596, 1.17, 0.8771, 1.1042, 0.7322, 1.0346, 0.9736, 0.7703, 0.6342, 1.0048, 0.9788, 0.6323, 0.9203, 1.1183, 0.5892, 1.037, 0.603, 0.7283, 0.5251, 0.6241, 0.3972, 0.418, 0.5951, 0.6483, 0.2515, 0.2266, 0.5978, 1.6735, 1.6733, 1.6729, 1.6725, 1.6725, 1.6724, 1.6723, 1.6722, 1.6722, 1.672, 1.6716, 1.6715, 1.6715, 1.6714, 1.6714, 1.6713, 1.6713, 1.6711, 1.671, 1.6708, 1.6706, 1.6706, 1.6706, 1.6705, 1.6702, 1.6702, 1.6701, 1.6699, 1.6698, 1.6697, 1.5903, 1.6301, 1.4911, 1.5181, 1.5588, 1.3295, 1.4018, 1.4551, 1.4947, 0.9623, 1.0251, 1.2076, 1.1639, 1.1669, 1.0752, 1.0299, 0.9981, 0.9621, 1.154, 0.9214, 0.9644, 0.3914, 0.8961, 0.5469, 0.6481, 0.6629, 0.4831, 0.2415, 0.695, 0.3431, 0.8968, 0.6272, 0.1232, -0.3431, 0.062, -0.7274, -0.2356, -0.4689, 2.0405, 2.0404, 2.0404, 2.0401, 2.0401, 2.04, 2.0399, 2.0399, 2.0398, 2.0398, 2.0397, 2.0397, 2.0397, 2.0394, 2.0394, 2.0393, 2.0393, 2.0392, 2.0392, 2.039, 2.039, 2.0389, 2.0388, 2.0388, 2.0388, 2.0388, 2.0387, 2.0387, 2.0387, 2.0386, 1.9498, 1.9078, 1.886, 1.9273, 1.8486, 1.7626, 1.9078, 1.9139, 1.7931, 1.5915, 1.5338, 1.5819, 1.2197, 1.5319, 1.3175, 1.4555, 1.3731, 1.118, 1.4237, 1.2352, 1.2941, 1.4987, 0.7357, 1.1935, 0.7652, 0.2219, 0.7724, -0.1982, -0.1369, 0.1706, -0.6685, -0.2574, 0.2703, 0.7196, 0.6272, 0.2998, -0.4027, 2.1125, 2.1124, 2.1124, 2.1124, 2.1123, 2.1123, 2.1122, 2.112, 2.112, 2.112, 2.112, 2.112, 2.112, 2.1119, 2.1118, 2.1118, 2.1117, 2.1117, 2.1114, 2.1113, 2.1113, 2.1113, 2.1111, 2.1109, 2.1108, 2.1107, 2.1104, 2.1103, 2.1098, 2.1095, 2.0466, 2.0632, 1.9509, 1.949, 1.8664, 1.5864, 1.6759, 1.7355, 1.7038, 1.9057, 1.5241, 0.8088, 1.0354, 0.6881, 1.3335, 0.5073, 0.9823, 0.5646, 0.9555, 1.5317, 0.8643, 1.199, 0.6704, 0.4267, 1.0623, 0.8809, -0.7888, 0.6263, 0.7754, 2.1866, 2.1865, 2.1865, 2.1865, 2.1865, 2.1865, 2.1865, 2.1864, 2.1864, 2.1863, 2.1863, 2.1862, 2.1861, 2.186, 2.1859, 2.1855, 2.1853, 2.185, 2.1849, 2.1848, 2.1847, 2.1846, 2.1843, 2.1842, 2.1842, 2.1841, 2.1837, 2.1832, 2.1832, 2.183, 2.1758, 2.1213, 2.041, 2.0545, 1.9973, 2.1081, 2.0129, 1.9432, 1.74, 1.6594, 1.9698, 1.3073, 1.5254, 1.4309, 1.8886, 0.8731, 1.1785, 0.3491, 0.4136, 0.8588, 0.7031, 0.5711, 0.7293, 0.3142, 0.7607, -0.4627, -0.5132, 0.4848, 0.6601, 2.3444, 2.3444, 2.3442, 2.3439, 2.3438, 2.3436, 2.3436, 2.3435, 2.3434, 2.3432, 2.3427, 2.3425, 2.3423, 2.3423, 2.3422, 2.3421, 2.3418, 2.3415, 2.3413, 2.3402, 2.3401, 2.3399, 2.3398, 2.3395, 2.3394, 2.3394, 2.3393, 2.3393, 2.3391, 2.339, 2.3369, 2.2887, 2.2554, 2.2564, 2.266, 2.2892, 2.2363, 2.2264, 2.0427, 1.9667, 1.8554, 1.832, 1.9325, 1.7013, 1.7182, 1.6415, 1.4384, 1.4459, 1.8262, 1.8943, 1.6312, 1.414, 1.0304, 1.5128, 0.7918, 0.961, 0.9031, 0.4852, 0.9213, 1.3705, 0.6853, -0.2777, -0.3268, 0.3955, 0.1799, -0.099, 0.8167, -0.5854, 2.3953, 2.3951, 2.3951, 2.395, 2.3946, 2.3946, 2.3945, 2.3945, 2.3944, 2.3943, 2.3943, 2.3943, 2.3943, 2.3943, 2.3942, 2.3941, 2.394, 2.3939, 2.3938, 2.3937, 2.3936, 2.3934, 2.3933, 2.3933, 2.3933, 2.3932, 2.3932, 2.3931, 2.3929, 2.3929, 2.3325, 2.2626, 2.2499, 2.1376, 2.1805, 1.968, 2.2725, 2.2781, 1.769, 2.0384, 2.0416, 1.8311, 2.2046, 1.5519, 1.607, 0.9851, 1.1214, 1.9311, 1.825, 1.442, 1.7537, 1.5809, 0.7717, 1.6489, 0.3712, 1.1631, 0.5027, 1.1477, -0.2091, 1.2465, 0.2445, -0.8716, 1.0394, 2.6162, 2.6161, 2.6161, 2.6161, 2.616, 2.616, 2.6159, 2.6157, 2.6156, 2.6155, 2.6154, 2.6153, 2.6152, 2.6147, 2.6141, 2.6138, 2.6136, 2.6134, 2.6134, 2.6132, 2.6132, 2.6132, 2.6131, 2.6131, 2.6126, 2.6126, 2.6123, 2.6122, 2.6121, 2.612, 2.4207, 2.2835, 2.3852, 2.4349, 1.6854, 1.7148, 2.0032, 2.1895, 1.8264, 1.9509, 1.9428, 2.2163, 1.6193, 2.2974, 1.3239, 1.7996, 1.2052, 1.4848, 1.3932, 0.9247, 1.3442, 0.9192, 0.2853, 1.0032, 0.6809, 0.5475], \"logprob\": [30.0, 29.0, 28.0, 27.0, 26.0, 25.0, 24.0, 23.0, 22.0, 21.0, 20.0, 19.0, 18.0, 17.0, 16.0, 15.0, 14.0, 13.0, 12.0, 11.0, 10.0, 9.0, 8.0, 7.0, 6.0, 5.0, 4.0, 3.0, 2.0, 1.0, -7.407899856567383, -7.490099906921387, -7.458099842071533, -7.781499862670898, -8.093999862670898, -8.30109977722168, -7.868800163269043, -8.410400390625, -8.345000267028809, -8.644000053405762, -8.654000282287598, -8.662699699401855, -8.730299949645996, -8.785300254821777, -8.809300422668457, -8.857000350952148, -8.881500244140625, -8.901399612426758, -8.909700393676758, -8.980899810791016, -8.982399940490723, -8.984299659729004, -8.997300148010254, -9.029600143432617, -9.031200408935547, -9.086600303649902, -9.109000205993652, -9.129300117492676, -9.181099891662598, -9.18019962310791, -3.7760000228881836, -4.339700222015381, -3.473599910736084, -5.1016998291015625, -8.56149959564209, -3.3499999046325684, -8.191399574279785, -4.621099948883057, -2.8320000171661377, -2.908099889755249, -6.29040002822876, -2.770699977874756, -4.059500217437744, -3.4038000106811523, -5.4243998527526855, -3.9935998916625977, -5.460999965667725, -3.512399911880493, -5.142899990081787, -3.528599977493286, -5.282299995422363, -5.118100166320801, -4.1417999267578125, -3.4937000274658203, -5.315499782562256, -5.305500030517578, -3.955199956893921, -5.1433000564575195, -5.928299903869629, -4.236000061035156, -5.679500102996826, -4.508500099182129, -4.850399971008301, -4.4471001625061035, -4.686299800872803, -4.327700138092041, -4.747200012207031, -5.010200023651123, -5.092199802398682, -4.875500202178955, -4.872600078582764, -5.075900077819824, -3.4900999069213867, -4.758800029754639, -5.927499771118164, -6.425899982452393, -6.44920015335083, -6.567399978637695, -6.654900074005127, -6.657700061798096, -6.694799900054932, -6.669400215148926, -7.0524001121521, -7.133500099182129, -7.138599872589111, -7.170400142669678, -7.188600063323975, -7.192699909210205, -7.19950008392334, -7.316299915313721, -7.350399971008301, -7.4070000648498535, -7.44890022277832, -7.481400012969971, -7.490300178527832, -7.536099910736084, -7.606100082397461, -7.616399765014648, -7.6350998878479, -7.692399978637695, -7.72790002822876, -7.747600078582764, -4.411900043487549, -6.125199794769287, -4.151000022888184, -5.21560001373291, -6.315100193023682, -3.7265000343322754, -4.707300186157227, -6.020500183105469, -6.416600227355957, -3.660099983215332, -4.021999835968018, -5.154300212860107, -5.0625, -5.159299850463867, -4.830900192260742, -4.690800189971924, -4.579400062561035, -4.717700004577637, -5.3979997634887695, -4.752299785614014, -4.899899959564209, -3.328000068664551, -4.844399929046631, -4.040599822998047, -4.463399887084961, -4.502399921417236, -4.299499988555908, -3.8864998817443848, -4.955999851226807, -4.482100009918213, -5.287300109863281, -5.000800132751465, -4.601600170135498, -4.276500225067139, -4.801499843597412, -4.591400146484375, -4.848599910736084, -4.858399868011475, -4.889599800109863, -5.086699962615967, -5.107800006866455, -5.623600006103516, -5.701900005340576, -5.837399959564209, -5.875800132751465, -5.878200054168701, -5.970099925994873, -6.008299827575684, -6.095900058746338, -6.110300064086914, -6.148799896240234, -6.330399990081787, -6.347599983215332, -6.3993000984191895, -6.426799774169922, -6.49560022354126, -6.509900093078613, -6.615900039672852, -6.626699924468994, -6.671299934387207, -6.716100215911865, -6.723199844360352, -6.741099834442139, -6.743100166320801, -6.751399993896484, -6.753799915313721, -6.780200004577637, -6.793700218200684, -4.565199851989746, -4.627699851989746, -5.432499885559082, -6.146299839019775, -5.753699779510498, -5.435200214385986, -6.1381001472473145, -6.17609977722168, -5.667900085449219, -5.064899921417236, -5.048600196838379, -5.24429988861084, -4.333399772644043, -5.179100036621094, -4.64109992980957, -5.0157999992370605, -4.907800197601318, -4.411300182342529, -5.061299800872803, -4.741000175476074, -5.008900165557861, -5.373700141906738, -4.459499835968018, -5.093299865722656, -4.81220006942749, -4.39109992980957, -4.873300075531006, -4.131499767303467, -4.39769983291626, -4.612100124359131, -4.387800216674805, -4.625800132751465, -4.8902997970581055, -5.094799995422363, -5.101099967956543, -5.036900043487549, -5.127500057220459, -3.2207000255584717, -3.8477001190185547, -4.163700103759766, -4.302599906921387, -4.380199909210205, -4.511899948120117, -5.015200138092041, -5.2804999351501465, -5.284299850463867, -5.331999778747559, -5.389400005340576, -5.411600112915039, -5.446000099182129, -5.497799873352051, -5.681099891662598, -5.697199821472168, -5.757199764251709, -5.848999977111816, -6.102799892425537, -6.148200035095215, -6.153800010681152, -6.213399887084961, -6.343200206756592, -6.460999965667725, -6.506899833679199, -6.600100040435791, -6.722099781036377, -6.764800071716309, -6.974299907684326, -7.0671000480651855, -3.6505000591278076, -5.613800048828125, -4.114500045776367, -4.337100028991699, -5.393899917602539, -4.059299945831299, -4.698500156402588, -4.939799785614014, -4.896200180053711, -5.657800197601318, -4.889599800109863, -3.559499979019165, -4.025000095367432, -3.5727999210357666, -4.593299865722656, -3.356800079345703, -4.1168999671936035, -3.5632998943328857, -4.345099925994873, -5.020699977874756, -4.531000137329102, -4.777200222015381, -4.487800121307373, -4.485400199890137, -4.816500186920166, -5.011899948120117, -4.7221999168396, -4.97130012512207, -5.009699821472168, -3.7400999069213867, -3.9823999404907227, -3.9932000637054443, -4.047800064086914, -4.2505998611450195, -4.278800010681152, -4.372300148010254, -4.564799785614014, -4.576900005340576, -4.85230016708374, -4.961299896240234, -5.07420015335083, -5.412600040435791, -5.576399803161621, -5.599800109863281, -6.070000171661377, -6.253399848937988, -6.400400161743164, -6.4959001541137695, -6.552499771118164, -6.58519983291626, -6.614999771118164, -6.780300140380859, -6.786799907684326, -6.803999900817871, -6.8445000648498535, -6.98199987411499, -7.076200008392334, -7.139400005340576, -7.19379997253418, -5.3125, -5.324699878692627, -4.191999912261963, -4.854700088500977, -4.274499893188477, -5.8043999671936035, -4.7453999519348145, -4.000800132751465, -3.3203001022338867, -4.738500118255615, -5.855199813842773, -3.7918999195098877, -4.566800117492676, -4.44789981842041, -5.627600193023682, -3.851799964904785, -4.647799968719482, -3.5843000411987305, -3.714400053024292, -4.336400032043457, -4.209000110626221, -4.211599826812744, -4.326600074768066, -4.075300216674805, -4.399899959564209, -4.182000160217285, -4.377299785614014, -4.626699924468994, -4.64900016784668, -3.8726000785827637, -4.210899829864502, -4.687699794769287, -5.303999900817871, -5.5131001472473145, -5.69350004196167, -5.713399887084961, -4.861999988555908, -5.887899875640869, -6.073599815368652, -6.369900226593018, -6.466300010681152, -6.550000190734863, -6.573400020599365, -6.444699764251709, -6.654600143432617, -6.761199951171875, -6.870100021362305, -6.919000148773193, -7.207399845123291, -7.207799911499023, -7.0742998123168945, -7.311500072479248, -7.196599960327148, -7.379700183868408, -7.386300086975098, -7.405900001525879, -7.4070000648498535, -7.17519998550415, -7.446800231933594, -5.702600002288818, -5.1442999839782715, -4.808599948883057, -4.838500022888184, -5.1620001792907715, -6.295599937438965, -5.521599769592285, -5.51669979095459, -5.373899936676025, -5.052700042724609, -4.638800144195557, -4.625699996948242, -5.177599906921387, -4.259699821472168, -4.582900047302246, -4.678299903869629, -4.189599990844727, -4.43179988861084, -5.285600185394287, -5.439700126647949, -4.954800128936768, -4.57450008392334, -3.941800117492676, -4.803999900817871, -3.7957000732421875, -4.086100101470947, -4.050099849700928, -3.775599956512451, -4.389100074768066, -4.818699836730957, -4.441699981689453, -3.996999979019165, -4.190800189971924, -4.516600131988525, -4.442500114440918, -4.488500118255615, -4.76200008392334, -4.953800201416016, -3.345099925994873, -4.2941999435424805, -4.5106000900268555, -4.67609977722168, -5.439499855041504, -5.451700210571289, -5.567500114440918, -5.593800067901611, -5.646399974822998, -5.730899810791016, -5.745100021362305, -5.75, -5.763599872589111, -5.796199798583984, -5.814599990844727, -5.947400093078613, -5.977399826049805, -6.071100234985352, -6.124899864196777, -6.207099914550781, -6.2484002113342285, -6.377699851989746, -6.410799980163574, -6.416500091552734, -6.4303998947143555, -6.482900142669678, -6.482500076293945, -6.503799915313721, -6.5746002197265625, -6.601200103759766, -5.79580020904541, -4.967299938201904, -5.0792999267578125, -4.079500198364258, -4.526400089263916, -3.7602999210357666, -5.708600044250488, -5.780099868774414, -3.567699909210205, -4.848700046539307, -4.92710018157959, -4.6981000900268555, -5.646500110626221, -4.2179999351501465, -4.68179988861084, -3.797600030899048, -4.0055999755859375, -5.227200031280518, -5.086699962615967, -4.628499984741211, -5.02209997177124, -4.890500068664551, -4.053500175476074, -4.978400230407715, -4.0183000564575195, -4.714600086212158, -4.222099781036377, -4.909599781036377, -4.469900131225586, -5.040200233459473, -4.72760009765625, -4.7357001304626465, -5.02370023727417, -4.055200099945068, -4.230400085449219, -4.25, -4.2769999504089355, -4.6097002029418945, -4.706699848175049, -4.815199851989746, -5.115499973297119, -5.230000019073486, -5.383600234985352, -5.498600006103516, -5.5559000968933105, -5.701099872589111, -5.9842000007629395, -6.306300163269043, -6.4278998374938965, -6.5096001625061035, -6.5640997886657715, -6.575399875640869, -6.632800102233887, -6.644199848175049, -6.649799823760986, -6.658199787139893, -6.678500175476074, -6.80109977722168, -6.807499885559082, -6.881499767303467, -6.901599884033203, -6.926000118255615, -6.953700065612793, -5.070899963378906, -3.8852999210357666, -5.029099941253662, -5.889500141143799, -2.9370999336242676, -3.595599889755249, -4.64709997177124, -5.300300121307373, -4.203000068664551, -4.592599868774414, -4.643199920654297, -5.500400066375732, -4.031700134277344, -5.802199840545654, -3.836699962615967, -4.7947001457214355, -4.324100017547607, -4.704400062561035, -4.670499801635742, -4.240499973297119, -5.006700038909912, -4.865799903869629, -4.7617998123168945, -5.03410005569458, -5.024700164794922, -5.057799816131592]}, \"token.table\": {\"Topic\": [5, 5, 3, 5, 8, 2, 4, 5, 6, 7, 8, 1, 2, 4, 6, 1, 2, 6, 8, 3, 6, 2, 2, 3, 6, 5, 8, 2, 8, 1, 2, 3, 4, 5, 6, 7, 8, 2, 5, 6, 1, 2, 4, 6, 1, 6, 1, 2, 3, 3, 5, 6, 7, 8, 1, 3, 4, 5, 6, 7, 8, 7, 1, 1, 2, 3, 4, 5, 6, 7, 1, 2, 3, 4, 5, 6, 8, 6, 8, 2, 6, 8, 1, 6, 5, 4, 8, 2, 4, 5, 6, 7, 8, 3, 2, 3, 4, 5, 6, 7, 8, 1, 2, 4, 1, 2, 3, 4, 5, 8, 3, 8, 2, 2, 4, 4, 7, 2, 3, 7, 1, 2, 4, 6, 7, 1, 2, 3, 5, 7, 3, 7, 6, 3, 8, 4, 5, 7, 8, 5, 1, 2, 4, 5, 6, 8, 3, 2, 3, 2, 1, 3, 4, 7, 8, 5, 7, 4, 5, 3, 6, 8, 8, 2, 5, 2, 7, 3, 3, 8, 2, 1, 6, 8, 2, 1, 2, 3, 4, 5, 6, 7, 6, 8, 1, 3, 4, 5, 7, 1, 2, 4, 7, 1, 2, 3, 8, 1, 2, 4, 5, 6, 7, 2, 4, 1, 3, 4, 5, 6, 8, 1, 6, 8, 5, 1, 2, 1, 7, 6, 6, 8, 1, 2, 3, 4, 5, 6, 7, 8, 5, 2, 7, 3, 7, 1, 2, 3, 4, 5, 6, 7, 8, 8, 2, 5, 3, 2, 3, 4, 5, 8, 1, 1, 2, 8, 2, 4, 6, 3, 6, 6, 3, 3, 4, 2, 3, 4, 7, 8, 2, 3, 1, 4, 5, 1, 2, 3, 5, 8, 7, 3, 8, 8, 8, 1, 4, 5, 6, 7, 8, 1, 6, 8, 1, 4, 8, 1, 2, 4, 5, 7, 6, 1, 1, 5, 6, 7, 2, 4, 6, 7, 5, 2, 3, 5, 6, 7, 8, 1, 2, 4, 5, 6, 7, 1, 5, 6, 6, 3, 6, 1, 2, 3, 6, 1, 1, 2, 4, 7, 1, 2, 4, 6, 2, 3, 1, 2, 3, 4, 5, 6, 4, 5, 3, 4, 5, 7, 2, 3, 6, 8, 8, 3, 7, 2, 2, 4, 5, 7, 4, 2, 7, 1, 2, 5, 6, 2, 6, 7, 7, 2, 1, 2, 3, 4, 5, 6, 8, 2, 6, 8, 1, 2, 3, 5, 6, 8, 1, 2, 3, 4, 5, 6, 7, 2, 2, 1, 2, 4, 5, 6, 7, 8, 5, 1, 3, 3, 2, 3, 6, 8, 1, 2, 4, 5, 6, 8, 1, 2, 4, 4, 1, 8, 2, 1, 8, 2, 6, 1, 2, 3, 5, 6, 8, 8, 2, 3, 5, 3, 5, 5, 2, 1, 2, 6, 6, 6, 8, 2, 3, 8, 4, 4, 4, 2, 8, 6, 1, 2, 3, 5, 6, 8, 6, 7, 7, 2, 3, 5, 8, 8, 8, 7, 3, 5, 8, 6, 8, 2, 3, 6, 8, 8, 1, 2, 3, 5, 6, 7, 5, 7, 1, 1, 3, 6, 1, 2, 3, 4, 5, 7, 8, 4, 2, 3, 7, 1, 3, 4, 5, 6, 7, 1, 3, 4, 5, 6, 7, 4, 1, 2, 3, 4, 5, 1, 2, 4, 7, 3, 1, 2, 4, 7, 1, 2, 4, 7, 3, 8, 5, 7, 1, 2, 3, 6, 8, 8, 1, 2, 3, 4, 6, 7, 2, 1, 5, 3, 6, 2, 5, 6, 8, 8, 6, 6, 8, 5, 7, 8, 2, 5, 2, 3, 5, 8, 5, 2, 3, 8, 1, 2, 8, 1, 3, 7, 1, 4, 5, 7, 4, 5, 7, 1, 2, 3, 4, 5, 6, 7, 8, 3, 1, 2, 3, 4, 5, 6, 7, 7, 4, 7, 1, 2, 3, 5, 7, 1, 2, 3, 4, 5, 8, 6, 3, 3, 4, 1, 2, 3, 4, 5, 6, 7, 8, 2, 5, 3, 1, 3, 5, 6, 7, 8, 3, 4, 7, 4, 3, 1, 1, 2, 3, 4, 5, 7, 1, 2, 4, 5, 6, 8, 1, 1, 2, 3, 4, 5, 6, 8, 4, 1, 2, 4, 5, 7, 8, 4, 2, 6, 3, 1, 3, 5, 3, 6, 3, 5, 6, 8, 6, 6, 2, 6, 7, 4, 4, 7, 6, 6, 1, 4, 5, 6, 5, 6, 8, 1, 2, 4, 5, 7, 5, 6, 1, 2, 3, 5, 1, 6, 1, 2, 5, 1, 5, 8, 7, 7, 6, 1, 8, 6, 6, 8, 1, 4, 6, 7, 8, 4, 3, 5, 1, 2, 3, 4, 5, 7, 8, 4, 1, 1, 2, 3, 5, 7, 1, 2, 3, 6, 8, 1, 8, 3, 5, 7, 7, 4, 4, 3, 7, 5, 4, 4, 3, 1, 2, 3, 7, 8, 3, 1, 3, 4, 5, 7, 3, 8, 6, 8, 7, 1, 6, 5, 1, 2, 3, 4, 6, 7, 1, 2, 4, 5, 6, 7, 3, 3, 5, 5, 1, 2, 3, 4, 5, 6, 7, 8, 3, 4, 7, 8, 6, 7, 4, 5, 8, 5, 3, 4, 5, 7, 5, 1, 2, 5, 6, 7, 8, 5, 6, 7, 1, 2, 3, 6, 8, 2, 5, 2, 7, 2, 3, 5, 6, 8, 8, 5, 6, 8, 1, 2, 6, 6, 2, 3, 6, 1, 2, 3, 5, 6, 8, 6, 2, 4, 6, 6, 7, 7, 4, 5, 4, 4, 4, 2, 7, 7, 1, 2, 3, 4, 5, 7, 8, 6, 4, 5, 3, 8, 3, 7, 8, 2, 6, 8, 2, 3, 4, 5, 6, 7, 8, 7, 2, 1, 2, 4, 5, 6, 1, 2, 4, 5, 4, 5, 7, 4, 5, 3, 7, 2, 3, 7, 7, 7, 2, 3, 4, 5, 7, 8, 1, 2, 6, 1, 2, 3, 4, 5, 6, 7, 3, 5, 7, 8, 4, 5, 1, 2, 4, 6, 1, 2, 3, 6, 8, 2, 6, 8, 1], \"Freq\": [0.9998544067195272, 0.999423437213405, 0.010068069617393146, 0.9891878399088766, 0.9972593075871462, 0.08586108433972982, 0.24241690763724288, 0.060176144579981584, 0.05406068273242248, 0.043542088354620825, 0.5139434136688671, 0.5336347637093095, 0.346062871288326, 0.04943755304118943, 0.07066661993534724, 0.47489236117317735, 0.10218436206308407, 0.1286766040794392, 0.2942909627416821, 0.07522952865151271, 0.9246716080709554, 0.9982456063416497, 0.31833514883223707, 0.1560252102860149, 0.5255945568916807, 0.864338021079579, 0.135389046870349, 0.1774068565163696, 0.8220061465633922, 0.07132875150191488, 0.23043030799570707, 0.11809820233700279, 0.10407448572435087, 0.21726082792798826, 0.07253891994057013, 0.10386092658811759, 0.08243382658604535, 0.3005967556567653, 0.08615089046708223, 0.6130683637833176, 0.5008799719418487, 0.3456492190584098, 0.1379482919305185, 0.01556978464227071, 0.9806681447294688, 0.9998354394602407, 0.815070645308617, 0.12088968286687438, 0.06380981198746359, 0.1573453609876853, 0.06035164531034505, 0.6621437656906428, 0.03965965263251246, 0.08018147162660129, 0.3934460158031242, 0.11331504774287988, 0.24062915775921398, 4.990753038664606e-05, 0.15576140233672237, 0.07393800626781614, 0.022832695151890573, 0.9982679951234679, 0.9775263522381697, 0.18863544356846132, 0.15216540717307803, 0.07138815634840988, 0.2870269460138784, 0.12042871592688276, 0.0533083297949539, 0.12702436080689888, 0.07344293597115113, 0.2025695956271376, 0.045486498565595945, 0.26260719071119876, 0.22445352818640416, 0.00824944054590153, 0.18320632545689652, 0.49002745314993246, 0.5099348184341485, 0.1779331082678856, 0.10511171329624622, 0.7167777953097622, 0.9943039647707256, 0.9959626375378106, 0.9971241197499059, 0.9990849361287507, 0.9969589305970661, 0.09339794791989514, 0.06600720357800281, 0.01212377208575562, 0.5990041467554813, 0.22182012630975095, 0.007858000425952716, 0.9993046875857493, 0.13086835766105012, 0.015226030074026025, 0.3498211868247302, 0.4696160680683068, 0.03347209917099936, 0.0007550097557368277, 0.00012583495928947128, 0.6143784007008468, 0.24128881446443728, 0.14425438800239476, 0.34307953225307486, 0.3093842210496479, 0.059158245237834896, 0.15564936368401222, 0.0064135961665613885, 0.12635741701285125, 0.9985915618291128, 0.9992929129861036, 0.9969135657901735, 0.9987108858459196, 0.9987060753381035, 0.9994910091632129, 0.9990981256158523, 0.10446063378144134, 0.24323631513668256, 0.6522024026250611, 0.3438879052067324, 0.4713980554532824, 0.17578770713250255, 0.0036900043479708993, 0.00522750615962544, 0.16413936412531982, 0.07713013365496527, 0.17533567384942766, 0.04881005611751597, 0.5344957269600249, 0.22699424661055534, 0.7727689048685936, 0.9963106286629985, 0.9128817277799269, 0.08677131006241494, 0.6643855955305519, 0.28521734564654, 0.03804623394740597, 0.012164442146449529, 0.9977577466352187, 0.3566979299316891, 0.23882549749377024, 0.2126728929287677, 0.16980621777710936, 0.02189215519977658, 0.0001092422914160508, 0.9984999540285775, 0.9961798808065806, 0.998238015638008, 0.9998910562667528, 0.07752537249043573, 0.539447383579282, 0.19912022755727987, 0.13797670461095407, 0.04591532477856164, 0.9996874675769571, 0.9980002621267927, 0.9521755131104379, 0.04787474646923989, 0.1562937754506354, 0.19032548462133828, 0.652274425771805, 0.995543921423788, 0.9977827343937866, 0.9995968361403496, 0.996257313369592, 0.9978444774511865, 0.9969624624235259, 0.2724954225914436, 0.7270409785737665, 0.998382461193027, 0.3531115943429341, 0.24091990086377013, 0.40592864953229907, 0.9981141345964876, 0.4547585110623686, 0.1173790065997227, 0.04841600223866705, 0.006754401250177467, 0.1537335780345014, 0.086842301787996, 0.13210814209905927, 0.9988015620582478, 0.0009485294986308146, 0.2372974840070667, 0.024699251740035153, 0.3229369456477494, 0.4150397628839552, 0.9991772016453642, 0.9951039735832315, 0.34530376007293884, 0.20005242552276248, 0.4545266957138025, 0.3210011661201021, 0.40608048300172767, 0.07357812673124986, 0.1992065114507386, 0.34101022650817825, 0.26435751604629104, 0.05506534151669631, 0.08806066966056533, 0.054319436492167354, 0.19718218707253643, 0.9967644992716295, 0.9991331211387956, 0.5707385678110494, 0.03564842552293362, 0.0032738349970041075, 0.058383390779906584, 0.31465191915650587, 0.017278573595299457, 0.7376300152479364, 0.20662527535559663, 0.05480383647424427, 0.9968648356800985, 0.9321190641117166, 0.06255832645045079, 0.9917188658347073, 0.9992938878801743, 0.9918441014375605, 0.637369356973923, 0.36236227401563137, 0.3472322804449351, 0.06627025985107943, 0.00895544052041614, 0.09194252267627237, 0.3649043497385563, 0.04740413182140277, 0.07068827717448473, 0.002507523345716519, 0.9992229895375464, 0.9985977637683077, 0.9993481300789476, 0.11535320756121463, 0.8847179044203872, 0.1216498674231646, 0.2158075727613657, 0.26678016512490316, 0.042241176079042604, 0.0024778343510052925, 0.1717965150030336, 0.04790479745276899, 0.13120722849132785, 0.9958230175940866, 0.9956827028089408, 0.9967383753045314, 0.9978347272125255, 0.2637669189386523, 0.16384855752151445, 0.09348145380022119, 0.02501616369301694, 0.4538019869926231, 0.9931071707733723, 0.8146882333743103, 0.185225600293615, 0.99942922167397, 0.836664414566853, 0.16329845060432263, 0.9956017005316905, 0.2600511692462407, 0.7391544495242247, 0.9994136764857872, 0.9986542357581282, 0.998659286455844, 0.9998641913537559, 0.9995205191016392, 0.6022241765303585, 0.10503318619385053, 0.07248052800302034, 0.21998476043021964, 0.9979557510394397, 0.998739001147013, 0.09871676612375861, 0.11738565114580277, 0.7838245538751772, 0.9804420913190806, 0.13833634847635495, 0.056391887276985464, 0.8053466401744487, 0.9987233115111374, 0.9994014729532797, 0.3289324797525749, 0.6705162087264027, 0.9991921411311869, 0.9998699866439535, 0.4086772283432705, 0.1852663720478745, 0.22680892201882644, 0.14238373981979505, 0.0240257604670713, 0.012778641523322781, 0.9822256023898588, 0.8881904317780673, 0.11122677253527899, 0.9915537229314433, 0.8507902997974006, 0.14907787249569426, 0.29949204067127755, 0.4909029316788159, 0.12819166892369077, 0.057856416947860444, 0.02341070703594353, 0.9984439410394277, 0.9937292803888121, 0.2135110964839238, 0.03923796640681381, 0.18205002431990192, 0.5652388133738314, 0.03888336406045082, 0.31384429563078164, 0.1206618678383831, 0.5264684054534056, 0.9948175189261748, 0.3758581880401749, 0.0024048511098278317, 0.006613340552026538, 0.1572171413049945, 0.08907969319320594, 0.36894424109941987, 0.493858608048901, 0.14061806085398837, 0.06612040733772645, 0.03764774324282313, 0.2365574754224542, 0.025181603096192953, 0.5323762533918863, 0.03217658674346566, 0.43526146431160817, 0.9965848354571747, 0.9981879516044709, 0.9989888978592533, 0.16715774110059803, 0.35125648349610145, 0.07755649147725463, 0.4040379846403442, 0.9795898363952908, 0.17761581002950283, 0.6007226794578572, 0.09976414605468564, 0.12185477839536604, 0.5168178370034674, 0.14461506306155336, 0.20684454892565884, 0.13169950939164465, 0.9200920296634789, 0.07972327659160579, 0.002693283097037291, 0.7620406880440804, 0.11834602785216801, 0.03865653386335876, 0.05640051662031032, 0.022021550028716672, 0.782038010229288, 0.21792859349759147, 0.7572313663882007, 0.057415927097178666, 0.15907035540038025, 0.02635485178231152, 0.37721225581835266, 0.16936633675239512, 0.394345500498114, 0.058983301356555516, 0.9996985332713529, 0.5569188781861115, 0.44289502940342174, 0.9973071279358616, 0.17273095067124355, 0.5551452444458873, 0.09044742566242978, 0.18153936979751345, 0.9992591224023983, 0.13471171474744295, 0.8646237946539068, 0.2800370845300988, 0.4921112273761878, 0.1908667285614801, 0.03683393007326809, 0.998726700065719, 0.17274202042588813, 0.8266293542893286, 0.9972914653793122, 0.9994815673329525, 0.10572588031223186, 0.12658879343246335, 0.17027818796659513, 0.020678828592700024, 0.24029166993772488, 0.061913762759745763, 0.27459275356775253, 0.6025272396039364, 0.23443643984589618, 0.16298351989286486, 0.13397214264172014, 0.3510154795755021, 0.05979009525479611, 0.14286128954685795, 0.1680472057780818, 0.1443428140310476, 0.15734568355750223, 0.13714547065024113, 0.271114807195567, 0.03970167631144081, 0.2650166297141297, 0.04268724237006116, 0.08696255179257996, 0.9965105474489476, 0.995010098101108, 0.5310082475799822, 0.09063538682108156, 0.20083767996198928, 0.06720879915171851, 0.06915542104974581, 0.03812693924412096, 0.0030206201865940903, 0.9989366948055948, 0.994914542315544, 0.9990889632874443, 0.9995751216746063, 0.4614603173220754, 0.0004035507803428731, 0.2578689486390959, 0.28026601694812536, 0.39184834647942834, 0.2485869505377344, 0.008481969440920072, 0.11744265379735484, 0.21698928415892227, 0.01659110506026124, 0.8044766685541433, 0.19543523977721267, 0.9989554257210512, 0.9986744076124173, 0.9799054935377393, 0.9983912476005922, 0.9999525322216184, 0.9870542911607687, 0.9959108047601186, 0.8919238766282076, 0.10732693951127809, 0.3560250956460802, 0.3241277933250535, 0.013457755534576349, 0.06908775784716958, 0.211656936659481, 0.025600871711019275, 0.9995758153064912, 0.7088576381489592, 0.05825167243170147, 0.23284088800261699, 0.9996903850043081, 0.9967504435196539, 0.9982643463157134, 0.9960889797636188, 0.9962657442353519, 0.31456089711653945, 0.6854199272589426, 0.9981910787513542, 0.9157733941700683, 0.08406264814356677, 0.99937936575485, 0.8755577531575951, 0.12424766341925962, 0.9990814629048693, 0.9985483947330278, 0.9995903074152631, 0.9970689724567127, 0.9997430653829638, 0.9925973106274109, 0.13814917695193543, 0.5947815457698505, 0.03207034464955644, 0.11273959619113301, 0.011594663065608865, 0.11051934156154834, 0.9928715603610402, 0.9998972254204375, 0.9996339868111187, 0.14900611398150487, 0.007012052422659053, 0.05025304236238988, 0.7935305991642495, 0.9996385197976853, 0.9989803072436417, 0.9989551252406061, 0.2575022207671865, 0.7420981085928715, 0.9997381543734298, 0.16550731575801608, 0.8333438530272037, 0.28006768667545207, 0.019868747451222548, 0.15813345574192192, 0.5416274990127791, 0.9997890956307598, 0.0823925597949595, 0.5089718919763204, 0.2792968128642695, 0.05520767000950394, 0.02299543759249152, 0.05120441569178274, 0.9997775034613273, 0.9993897584013361, 0.9966513182808019, 0.1463841147648446, 0.2577914941433989, 0.5954681246628929, 0.0699219307048954, 0.14011646152949797, 0.48522821307880626, 0.21971569648399877, 0.035301715502081686, 0.019763508678771604, 0.029986013167791398, 0.9962754819816116, 0.10224919836368826, 0.09101618783922674, 0.8067605763850446, 0.32249475516949255, 0.01569721206404732, 0.29186604870305877, 0.2400524869306749, 0.10184044900089238, 0.028076314260897652, 0.4963219934008473, 0.10044810246019836, 0.27152942109019595, 0.07016084611673606, 0.0534056024698482, 0.008141436796912344, 0.9986779312251062, 0.609528568405529, 0.12468236594191068, 0.1799484253636998, 0.019489962984495676, 0.06621247698842365, 0.07379373048020621, 0.1278433190259091, 0.5594996220689883, 0.23890411740749035, 0.9989881698771542, 0.3617102929976804, 0.459561638543554, 0.17849926303944907, 0.00010957597485540153, 0.2927853105156511, 0.5497483900185658, 0.1276409458829274, 0.029744090732597067, 0.998868321871096, 0.9994903857368256, 0.9990211261769498, 0.9983293552426596, 0.08851783421130675, 0.522890622141791, 0.04075326030520558, 0.2506544612320171, 0.09717242443741224, 0.9968136075311963, 0.9775628300884062, 0.16462612763717602, 0.10596386885554743, 0.6461110755948389, 0.05411799929854469, 0.028918014892352125, 0.9968276979149926, 0.9935759094799584, 0.9973285475248751, 0.8250955373962904, 0.1741868356725502, 0.22485156625911004, 0.07500773622536724, 0.3774416749647198, 0.32251610152738, 0.9983312633276507, 0.9983271724436565, 0.9454282164879049, 0.05417756152418094, 0.9995120828980537, 0.9991109111885127, 0.998660966230154, 0.9986437918152931, 0.9996560022995401, 0.12418684473744417, 0.8759019049180796, 0.8275021913476652, 0.1724351266043231, 0.9999017375110343, 0.48332559137964504, 0.07463494222582379, 0.44189033035082564, 0.9784904859020738, 0.9986273412668414, 0.9945274873219706, 0.9927602656558657, 0.9981618538917709, 0.9983902787631171, 0.1070115690779712, 0.29079230727709565, 0.5902555124439083, 0.011843177605467168, 0.6859612166498897, 0.27265423460819455, 0.041302790913012075, 0.31982164647550076, 0.07750325931592861, 0.04690853006465712, 0.045841272067519735, 0.08695611586200251, 0.26869490623168163, 0.11638194349736164, 0.03796389161245814, 0.9973918049074648, 0.19932772923367958, 0.24915966154209948, 0.036138738444633126, 0.314449374552423, 0.1410257801022988, 0.0378327418092253, 0.022163210686747658, 0.997710023176346, 0.9989245390081332, 0.9969141781124597, 0.2814195806274417, 0.21216599605617026, 0.08687455394069522, 0.2688388434875603, 0.1506513507349836, 0.12092193401945515, 0.14292387065689086, 0.397365621770462, 0.0039035694034160137, 0.09093542360230486, 0.24388437022705958, 0.9973692323148126, 0.9998465827569445, 0.9990263186818549, 0.9998365198861948, 0.08050345987450598, 0.16827585517786126, 0.4399523168311038, 0.035526921908500944, 0.06514783378106184, 0.06451180193103752, 0.0644209402381769, 0.08159380018883337, 0.06272825904922494, 0.9367017913792917, 0.998751231859831, 0.20212236487430232, 0.4738625186015994, 0.07500259020074015, 0.14635120805836735, 0.1023112256071635, 0.0001923143338480517, 0.4467826482912154, 0.401147289307108, 0.1520253904151419, 0.9978109018266101, 0.9989032915504806, 0.9977933103461569, 0.14956973676657376, 0.18287016872592415, 0.5128642797807297, 0.047975198585504794, 0.05173795925887772, 0.05512444386491335, 0.5675887084756739, 0.1348574120763492, 0.2364136747339358, 0.04799283298586371, 0.010651470586148324, 0.002448613927850189, 0.9817035991297671, 0.5273943748603647, 0.13309410271686725, 0.10656521062127547, 0.05494628159459857, 0.15919133826310702, 0.01708640507851674, 0.0017086405078516741, 0.9991501441310521, 0.0779350296975287, 0.06596548588732805, 0.3734497668782604, 0.00851167559836491, 0.4739939348839459, 0.9961849235999806, 0.9972437928524313, 0.9980775909034781, 0.997493668473003, 0.9970256598121949, 0.2338261506570252, 0.5815066043229217, 0.18454592995169286, 0.880875398438888, 0.11829226341487023, 0.6380989798953935, 0.08051549360053463, 0.093660880310826, 0.187321760621652, 0.9988643650523661, 0.9987226487062142, 0.3011731228621735, 0.40713678837670286, 0.29162005218707954, 0.9966641397018056, 0.9997836773829826, 0.9985553577506093, 0.9977431648614369, 0.9997820246809037, 0.2113569120351899, 0.05951012055486728, 0.19446371652284047, 0.5344392762088725, 0.08397597087377343, 0.9146794474584536, 0.0012349407481437268, 0.27908352433211064, 0.16946392355632586, 0.2261735437150291, 0.2310180841305967, 0.09423106063221708, 0.9981861231135621, 0.9962768122826677, 0.3457434251677199, 0.3586547629443448, 0.11322250050271057, 0.18233613213052616, 0.9584138903902009, 0.03721995690835731, 0.759420168947603, 0.1995882758826153, 0.04098443581965992, 0.9949744595740297, 0.9241248215173261, 0.07500700944677569, 0.9985401628800461, 0.9992832792666468, 0.9989396782578103, 0.9860915035337393, 0.9965771390949674, 0.9996836113578424, 0.9925472332914176, 0.006551466886411997, 0.5034046820779652, 0.062477296500864817, 0.34617329843681593, 0.06927241031968999, 0.018686563001769234, 0.9999239097541823, 0.9995075235382374, 0.9997650793307281, 0.13676797961653003, 0.10812063253468929, 0.12330240633382147, 0.45888561500681313, 0.11472140375170328, 0.0017162005164236395, 0.05650260161763982, 0.9985705876941703, 0.9965900819298928, 0.09894546892330885, 0.3041111905029195, 0.15411608312959071, 0.1987740040801024, 0.24406268662596028, 0.9905375785492584, 0.23334777104180587, 0.6318888876472825, 0.0717244191936566, 0.06296170734646779, 0.9886953571800036, 0.9994356565898012, 0.7806610163851142, 0.1444988234250094, 0.07469854431292858, 0.9991045019372031, 0.9998229529217831, 0.9992088147012239, 0.3000652717839839, 0.6998073982180498, 0.9982617994816742, 0.9974434532728268, 0.998838157245171, 0.9972132316874427, 0.09486823027854435, 0.04396332622664251, 0.6013141791130906, 0.13767462686764362, 0.12234530917019591, 0.9980628240741417, 0.06717427458079599, 0.42859079415634627, 0.13453777247027027, 0.0527933031212453, 0.3169490420361501, 0.998950787850698, 0.996817842333247, 0.9456089639458832, 0.05274312946311699, 0.9992660662171634, 0.9855921023868295, 0.995686494820169, 0.9981133678852834, 0.25177487798662335, 0.10529177999171652, 0.07493434288799547, 0.09547357542657253, 0.04220699433751552, 0.4301953540497571, 0.38674393323539585, 0.14586117043776275, 0.055227517852472416, 0.12437539636912966, 0.02995903708161517, 0.2576779805555083, 0.9985139223563181, 0.9995049807264618, 0.999871994970017, 0.9972756743779535, 0.48851624754500445, 0.2774366883201284, 0.06658945164788344, 0.019820017771339054, 0.07069865679754568, 0.07264435817583098, 0.000769568455590454, 0.003542918927623977, 0.9978741885745006, 0.8133074169573021, 0.12616778945292595, 0.06037060893177639, 0.12391877901637002, 0.8756927050490149, 0.06852963401559958, 0.8405493163329294, 0.09066531225957643, 0.9988988949699539, 0.28127743020350987, 0.5908620149703779, 0.09060282921863588, 0.03717805863426973, 0.9998927144803251, 0.6573659275410767, 0.12866371690715098, 0.12667471258781338, 0.0004972510798343999, 0.039531460846834794, 0.04736316535422659, 0.9987420448567106, 0.11014013453638571, 0.8889087625714363, 0.9942280317873324, 0.30413368891583437, 0.0009779218293113645, 0.4950240299974127, 0.19969163754538063, 0.9574803544947383, 0.041915448995048635, 0.05966330496192416, 0.9391004201006862, 0.22913776864361665, 0.14346423176123108, 0.5162220022331377, 0.019627028449419236, 0.09159279943062311, 0.9946631955037523, 0.9977868557658539, 0.8972369430616446, 0.10216472078938837, 0.2621338032933973, 0.6274891664828717, 0.11015739593652493, 0.9954472218465593, 0.14282902723510493, 0.8564432004841049, 0.9965760757724881, 0.287331563602715, 0.36395742362377803, 0.05024141264454253, 0.020096565057817012, 0.09413329706529626, 0.18419796439496083, 0.9968510976410399, 0.8039529378109959, 0.052809891587275615, 0.14289735370674578, 0.9965319807263571, 0.9984728172660333, 0.9996447518410033, 0.999282005162346, 0.999823137975366, 0.999468080049099, 0.9995854909602958, 0.9997115850391111, 0.9991403941083818, 0.9970759029652949, 0.9995711505580945, 0.07130589317764917, 0.10530406165475616, 0.2865774820747293, 0.11162230535404152, 0.11553359907264675, 0.2871792195698993, 0.02256515606887632, 0.9948880148710488, 0.12341936472940246, 0.8762774895787575, 0.9981667892943088, 0.9965205128736137, 0.39426459414533543, 0.5688502615222302, 0.036894484956719466, 0.49105209473978345, 0.11478302411514309, 0.3941457026575544, 0.09405019581176353, 0.2656879923823401, 0.045424567831289356, 0.09450749011878994, 0.05213155100100993, 0.38549910082325767, 0.06249688862694173, 0.9981679729852363, 0.9979402847902681, 0.3335000786076415, 0.45986467572472023, 0.11184974474552237, 0.030054282557575477, 0.06471916528023355, 0.5789141785540453, 0.300986826585751, 0.08616961567575936, 0.03398238364677834, 0.3405311458698793, 0.6397656051012598, 0.019649229932834113, 0.9362088269799335, 0.0636940997508204, 0.8925803624147906, 0.10620576464175989, 0.8561795392640287, 0.0630152874441044, 0.08076607263962676, 0.9974103895554237, 0.9993913414323875, 0.15567196340142603, 0.022452687029051833, 0.017587938172757268, 0.005613171757262958, 0.7020206811083539, 0.09654655422492288, 0.0906740103742846, 0.8332474775906329, 0.07597548514384198, 0.24327267902070776, 0.09802108920541688, 0.004568779581608414, 0.10181851639013037, 0.0824160368682349, 0.19028670283400237, 0.27970424607405275, 0.27638778014098553, 0.04794943485260961, 0.6287708909917674, 0.04704472853463584, 0.8490906666114586, 0.15071832099985133, 0.3142354368003607, 0.5253371917790646, 0.12419014186024512, 0.036096788637579896, 0.6689400471254588, 0.14819594890164012, 0.1622135254859667, 0.014443427012204867, 0.006174831204235004, 0.9961123041163888, 0.9968879728568742, 0.9967695240324487, 0.9945483145785158], \"Term\": [\"10\", \"15\", \"20\", \"20\", \"24\", \"able\", \"able\", \"able\", \"able\", \"able\", \"able\", \"absolutely\", \"absolutely\", \"absolutely\", \"absolutely\", \"accommodate\", \"accommodate\", \"accommodate\", \"accommodate\", \"accurate\", \"accurate\", \"afeng\", \"airbnb\", \"airbnb\", \"airbnb\", \"airport\", \"airport\", \"allow\", \"allow\", \"also\", \"also\", \"also\", \"also\", \"also\", \"also\", \"also\", \"also\", \"always\", \"always\", \"always\", \"amaze\", \"amaze\", \"amaze\", \"amaze\", \"anniversary\", \"answer\", \"anyone\", \"anyone\", \"anyone\", \"anything\", \"anything\", \"anything\", \"anything\", \"anything\", \"apartment\", \"apartment\", \"apartment\", \"apartment\", \"apartment\", \"apartment\", \"apartment\", \"appliance\", \"appt\", \"area\", \"area\", \"area\", \"area\", \"area\", \"area\", \"area\", \"around\", \"around\", \"around\", \"around\", \"around\", \"around\", \"around\", \"arrival\", \"arrival\", \"arrive\", \"arrive\", \"arrive\", \"artwork\", \"assist\", \"attending\", \"attraction\", \"authentic\", \"available\", \"available\", \"available\", \"available\", \"available\", \"available\", \"aware\", \"away\", \"away\", \"away\", \"away\", \"away\", \"away\", \"away\", \"awesome\", \"awesome\", \"awesome\", \"back\", \"back\", \"back\", \"back\", \"back\", \"back\", \"bad\", \"bag\", \"bagel\", \"bake\", \"bakery\", \"bars\", \"bath\", \"bathroom\", \"bathroom\", \"bathroom\", \"beautiful\", \"beautiful\", \"beautiful\", \"beautiful\", \"beautiful\", \"bed\", \"bed\", \"bed\", \"bed\", \"bed\", \"bedroom\", \"bedroom\", \"binder\", \"bit\", \"bit\", \"block\", \"block\", \"block\", \"block\", \"blue\", \"boston\", \"boston\", \"boston\", \"boston\", \"boston\", \"boston\", \"bother\", \"bread\", \"break\", \"breakfast\", \"building\", \"building\", \"building\", \"building\", \"building\", \"bus\", \"cable\", \"cafe\", \"cafe\", \"call\", \"call\", \"call\", \"cancel\", \"carney\", \"center\", \"cereal\", \"chair\", \"challenge\", \"change\", \"change\", \"chat\", \"check\", \"check\", \"check\", \"chocolate\", \"clean\", \"clean\", \"clean\", \"clean\", \"clean\", \"clean\", \"clean\", \"clear\", \"clear\", \"close\", \"close\", \"close\", \"close\", \"closet\", \"coe\", \"coffee\", \"coffee\", \"coffee\", \"come\", \"come\", \"come\", \"come\", \"comfortable\", \"comfortable\", \"comfortable\", \"comfortable\", \"comfortable\", \"comfortable\", \"comforts\", \"commons\", \"communication\", \"communication\", \"communication\", \"communication\", \"communication\", \"communication\", \"communicative\", \"communicative\", \"communicative\", \"commuter\", \"compact\", \"compact\", \"computer\", \"conditioning\", \"confirm\", \"contact\", \"contact\", \"convenient\", \"convenient\", \"convenient\", \"convenient\", \"convenient\", \"convenient\", \"convenient\", \"convenient\", \"convention\", \"cookie\", \"cooking\", \"couch\", \"couch\", \"could\", \"could\", \"could\", \"could\", \"could\", \"could\", \"could\", \"could\", \"country\", \"cream\", \"crossing\", \"dark\", \"day\", \"day\", \"day\", \"day\", \"day\", \"definetely\", \"definitely\", \"definitely\", \"delay\", \"delicious\", \"delicious\", \"depict\", \"description\", \"description\", \"detail\", \"difficult\", \"dirty\", \"distance\", \"dog\", \"door\", \"door\", \"door\", \"door\", \"dorchester\", \"downside\", \"downtown\", \"downtown\", \"downtown\", \"drawer\", \"drive\", \"drive\", \"drive\", \"drop\", \"dryer\", \"due\", \"due\", \"earlier\", \"early\", \"easy\", \"easy\", \"easy\", \"easy\", \"easy\", \"easy\", \"effortless\", \"email\", \"email\", \"en\", \"end\", \"end\", \"enjoy\", \"enjoy\", \"enjoy\", \"enjoy\", \"enjoy\", \"ensure\", \"entirely\", \"equip\", \"equip\", \"equip\", \"equip\", \"etc\", \"etc\", \"etc\", \"etc\", \"euphy\", \"even\", \"even\", \"even\", \"even\", \"even\", \"even\", \"everything\", \"everything\", \"everything\", \"everything\", \"everything\", \"everything\", \"exactly\", \"exactly\", \"exactly\", \"exceed\", \"except\", \"expectation\", \"experience\", \"experience\", \"experience\", \"experience\", \"explanation\", \"family\", \"family\", \"family\", \"family\", \"fantastic\", \"fantastic\", \"fantastic\", \"fantastic\", \"feel\", \"feel\", \"felt\", \"felt\", \"felt\", \"felt\", \"felt\", \"felt\", \"fenway\", \"fenway\", \"fine\", \"fine\", \"fine\", \"fine\", \"first\", \"first\", \"first\", \"first\", \"flight\", \"floor\", \"floor\", \"flower\", \"food\", \"food\", \"food\", \"food\", \"freedom\", \"fridge\", \"fridge\", \"friendly\", \"friendly\", \"friendly\", \"friendly\", \"fruit\", \"fully\", \"fully\", \"furnishing\", \"generous\", \"get\", \"get\", \"get\", \"get\", \"get\", \"get\", \"get\", \"give\", \"give\", \"give\", \"go\", \"go\", \"go\", \"go\", \"go\", \"go\", \"good\", \"good\", \"good\", \"good\", \"good\", \"good\", \"good\", \"graduation\", \"granola\", \"great\", \"great\", \"great\", \"great\", \"great\", \"great\", \"great\", \"green\", \"handle\", \"hard\", \"hear\", \"help\", \"help\", \"help\", \"help\", \"helpful\", \"helpful\", \"helpful\", \"helpful\", \"helpful\", \"helpful\", \"highly\", \"highly\", \"historic\", \"historical\", \"hitch\", \"hold\", \"home\", \"hook\", \"hop\", \"hospitality\", \"hospitality\", \"host\", \"host\", \"host\", \"host\", \"host\", \"host\", \"hours\", \"house\", \"house\", \"house\", \"however\", \"huggy\", \"hynes\", \"ice\", \"impeccable\", \"information\", \"information\", \"inquiry\", \"instructions\", \"instructions\", \"invite\", \"issue\", \"issue\", \"italian\", \"italy\", \"jamaica\", \"juice\", \"key\", \"kierstyn\", \"kind\", \"kind\", \"kind\", \"kind\", \"kind\", \"kind\", \"kindness\", \"kitchen\", \"large\", \"last\", \"last\", \"last\", \"last\", \"late\", \"later\", \"laundry\", \"le\", \"le\", \"leave\", \"leaving\", \"leaving\", \"left\", \"left\", \"left\", \"left\", \"let\", \"like\", \"like\", \"like\", \"like\", \"like\", \"like\", \"line\", \"linen\", \"liri\", \"listing\", \"listing\", \"listing\", \"little\", \"little\", \"little\", \"little\", \"little\", \"little\", \"little\", \"lively\", \"living\", \"living\", \"living\", \"locate\", \"locate\", \"locate\", \"locate\", \"locate\", \"locate\", \"location\", \"location\", \"location\", \"location\", \"location\", \"location\", \"loft\", \"looking\", \"looking\", \"looking\", \"looking\", \"looking\", \"lots\", \"lots\", \"lots\", \"lots\", \"loud\", \"love\", \"love\", \"love\", \"love\", \"lovely\", \"lovely\", \"lovely\", \"lovely\", \"low\", \"luggage\", \"lyft\", \"machine\", \"make\", \"make\", \"make\", \"make\", \"make\", \"manager\", \"maneuver\", \"many\", \"many\", \"many\", \"many\", \"many\", \"margrit\", \"massachusetts\", \"maverick\", \"may\", \"may\", \"meet\", \"meet\", \"meet\", \"meet\", \"memory\", \"meri\", \"message\", \"message\", \"metro\", \"microwave\", \"midnight\", \"milk\", \"min\", \"mind\", \"mind\", \"minute\", \"minute\", \"minutes\", \"morning\", \"morning\", \"morning\", \"ms\", \"muffin\", \"name\", \"nap\", \"narrow\", \"natural\", \"near\", \"near\", \"near\", \"near\", \"nearby\", \"nearby\", \"nearby\", \"need\", \"need\", \"need\", \"need\", \"need\", \"need\", \"need\", \"need\", \"negative\", \"neighborhood\", \"neighborhood\", \"neighborhood\", \"neighborhood\", \"neighborhood\", \"neighborhood\", \"neighborhood\", \"netflix\", \"newbury\", \"newly\", \"nice\", \"nice\", \"nice\", \"nice\", \"nice\", \"night\", \"night\", \"night\", \"night\", \"night\", \"night\", \"nitzan\", \"noise\", \"noisy\", \"north\", \"one\", \"one\", \"one\", \"one\", \"one\", \"one\", \"one\", \"one\", \"orange\", \"orange\", \"otherwise\", \"overall\", \"overall\", \"overall\", \"overall\", \"overall\", \"overall\", \"parking\", \"parking\", \"parking\", \"parks\", \"pay\", \"penthouse\", \"people\", \"people\", \"people\", \"people\", \"people\", \"people\", \"perfect\", \"perfect\", \"perfect\", \"perfect\", \"perfect\", \"perfect\", \"piano\", \"place\", \"place\", \"place\", \"place\", \"place\", \"place\", \"place\", \"plain\", \"plenty\", \"plenty\", \"plenty\", \"plenty\", \"plenty\", \"pm\", \"pond\", \"porch\", \"possibly\", \"previous\", \"price\", \"price\", \"price\", \"probably\", \"probably\", \"problem\", \"problem\", \"problem\", \"problem\", \"prompt\", \"promptly\", \"provide\", \"provide\", \"provide\", \"pub\", \"public\", \"queen\", \"query\", \"question\", \"quick\", \"quick\", \"quick\", \"quick\", \"quickly\", \"quickly\", \"quickly\", \"quiet\", \"quiet\", \"quiet\", \"quiet\", \"quiet\", \"rail\", \"readily\", \"really\", \"really\", \"really\", \"really\", \"reccomend\", \"reccomend\", \"recommend\", \"recommend\", \"recommend\", \"recommendable\", \"red\", \"red\", \"refrigerator\", \"renovate\", \"reply\", \"representation\", \"resolve\", \"respond\", \"response\", \"response\", \"responsive\", \"responsive\", \"responsive\", \"responsive\", \"responsive\", \"restaurant\", \"review\", \"ride\", \"right\", \"right\", \"right\", \"right\", \"right\", \"right\", \"right\", \"river\", \"riyo\", \"room\", \"room\", \"room\", \"room\", \"room\", \"roslindale\", \"say\", \"say\", \"say\", \"say\", \"scenery\", \"schedule\", \"seem\", \"seem\", \"seem\", \"shampoo\", \"shop\", \"shopping\", \"shower\", \"shower\", \"shuttle\", \"sight\", \"sights\", \"sink\", \"sleep\", \"sleep\", \"sleep\", \"sleep\", \"sleep\", \"sleeper\", \"small\", \"small\", \"small\", \"small\", \"small\", \"smell\", \"smoke\", \"smoothly\", \"smoothly\", \"soap\", \"sometime\", \"sonder\", \"southie\", \"space\", \"space\", \"space\", \"space\", \"space\", \"space\", \"spacious\", \"spacious\", \"spacious\", \"spacious\", \"spacious\", \"spacious\", \"staircase\", \"stairs\", \"station\", \"stations\", \"stay\", \"stay\", \"stay\", \"stay\", \"stay\", \"stay\", \"stay\", \"stay\", \"steep\", \"steps\", \"steps\", \"steps\", \"stock\", \"stock\", \"stop\", \"stop\", \"stop\", \"stops\", \"street\", \"street\", \"street\", \"street\", \"subway\", \"super\", \"super\", \"super\", \"super\", \"super\", \"super\", \"supermarket\", \"supply\", \"supply\", \"support\", \"sure\", \"sure\", \"sure\", \"sure\", \"sweet\", \"sweet\", \"table\", \"table\", \"take\", \"take\", \"take\", \"take\", \"take\", \"tall\", \"td\", \"text\", \"text\", \"thank\", \"thank\", \"thank\", \"therefore\", \"thing\", \"thing\", \"thorough\", \"time\", \"time\", \"time\", \"time\", \"time\", \"time\", \"timely\", \"tip\", \"tip\", \"tip\", \"toddler\", \"toiletry\", \"towel\", \"trail\", \"train\", \"transit\", \"transport\", \"transportation\", \"treat\", \"tub\", \"tv\", \"two\", \"two\", \"two\", \"two\", \"two\", \"two\", \"two\", \"tyree\", \"uber\", \"uber\", \"uncomfortable\", \"understanding\", \"unit\", \"unit\", \"unit\", \"us\", \"us\", \"us\", \"use\", \"use\", \"use\", \"use\", \"use\", \"use\", \"use\", \"utensil\", \"victorian\", \"visit\", \"visit\", \"visit\", \"visit\", \"visit\", \"visiting\", \"visiting\", \"visiting\", \"visiting\", \"walk\", \"walk\", \"walk\", \"walking\", \"walking\", \"wall\", \"wall\", \"warm\", \"warm\", \"warm\", \"wash\", \"washer\", \"water\", \"water\", \"water\", \"water\", \"water\", \"water\", \"welcome\", \"welcome\", \"welcome\", \"well\", \"well\", \"well\", \"well\", \"well\", \"well\", \"well\", \"wifi\", \"wifi\", \"wifi\", \"wifi\", \"within\", \"within\", \"wonderful\", \"wonderful\", \"wonderful\", \"wonderful\", \"would\", \"would\", \"would\", \"would\", \"would\", \"yard\", \"yasmina\", \"yes\", \"yu\"]}, \"R\": 30, \"lambda.step\": 0.01, \"plot.opts\": {\"xlab\": \"PC1\", \"ylab\": \"PC2\"}, \"topic.order\": [7, 2, 4, 1, 8, 5, 6, 3]};\n",
       "\n",
       "function LDAvis_load_lib(url, callback){\n",
       "  var s = document.createElement('script');\n",
       "  s.src = url;\n",
       "  s.async = true;\n",
       "  s.onreadystatechange = s.onload = callback;\n",
       "  s.onerror = function(){console.warn(\"failed to load library \" + url);};\n",
       "  document.getElementsByTagName(\"head\")[0].appendChild(s);\n",
       "}\n",
       "\n",
       "if(typeof(LDAvis) !== \"undefined\"){\n",
       "   // already loaded: just create the visualization\n",
       "   !function(LDAvis){\n",
       "       new LDAvis(\"#\" + \"ldavis_el536016929192554726197236937\", ldavis_el536016929192554726197236937_data);\n",
       "   }(LDAvis);\n",
       "}else if(typeof define === \"function\" && define.amd){\n",
       "   // require.js is available: use it to load d3/LDAvis\n",
       "   require.config({paths: {d3: \"https://cdnjs.cloudflare.com/ajax/libs/d3/3.5.5/d3.min\"}});\n",
       "   require([\"d3\"], function(d3){\n",
       "      window.d3 = d3;\n",
       "      LDAvis_load_lib(\"https://cdn.rawgit.com/bmabey/pyLDAvis/files/ldavis.v1.0.0.js\", function(){\n",
       "        new LDAvis(\"#\" + \"ldavis_el536016929192554726197236937\", ldavis_el536016929192554726197236937_data);\n",
       "      });\n",
       "    });\n",
       "}else{\n",
       "    // require.js not available: dynamically load d3 & LDAvis\n",
       "    LDAvis_load_lib(\"https://cdnjs.cloudflare.com/ajax/libs/d3/3.5.5/d3.min.js\", function(){\n",
       "         LDAvis_load_lib(\"https://cdn.rawgit.com/bmabey/pyLDAvis/files/ldavis.v1.0.0.js\", function(){\n",
       "                 new LDAvis(\"#\" + \"ldavis_el536016929192554726197236937\", ldavis_el536016929192554726197236937_data);\n",
       "            })\n",
       "         });\n",
       "}\n",
       "</script>"
      ],
      "text/plain": [
       "PreparedData(topic_coordinates=            Freq  cluster  topics         x         y\n",
       "topic                                                \n",
       "6      18.918190        1       1 -0.105500 -0.122566\n",
       "1      18.758494        1       2  0.037150 -0.086425\n",
       "3      12.992761        1       3  0.073008  0.172559\n",
       "0      12.092945        1       4 -0.213290 -0.072493\n",
       "7      11.228793        1       5 -0.157507 -0.081474\n",
       "4       9.588567        1       6  0.128391 -0.086931\n",
       "5       9.113854        1       7 -0.090025  0.311999\n",
       "2       7.306397        1       8  0.327771 -0.034671, topic_info=     Category          Freq         Term         Total  loglift  logprob\n",
       "term                                                                    \n",
       "133   Default  27913.000000           us  27913.000000  30.0000  30.0000\n",
       "154   Default  13713.000000   restaurant  13713.000000  29.0000  29.0000\n",
       "453   Default  16248.000000         home  16248.000000  28.0000  28.0000\n",
       "44    Default  18015.000000         walk  18015.000000  27.0000  27.0000\n",
       "67    Default  59590.000000        great  59590.000000  26.0000  26.0000\n",
       "72    Default   9126.000000      kitchen   9126.000000  25.0000  25.0000\n",
       "153   Default  21935.000000    recommend  21935.000000  24.0000  24.0000\n",
       "29    Default  68869.000000         stay  68869.000000  23.0000  23.0000\n",
       "22    Default  55599.000000        place  55599.000000  22.0000  22.0000\n",
       "140   Default  45769.000000       boston  45769.000000  21.0000  21.0000\n",
       "84    Default  28178.000000        would  28178.000000  20.0000  20.0000\n",
       "211   Default  14029.000000        check  14029.000000  19.0000  19.0000\n",
       "222   Default  35988.000000     location  35988.000000  18.0000  18.0000\n",
       "70    Default  18093.000000        house  18093.000000  17.0000  17.0000\n",
       "61    Default  15111.000000   definitely  15111.000000  16.0000  16.0000\n",
       "135   Default   9529.000000      walking   9529.000000  15.0000  15.0000\n",
       "55    Default  40074.000000    apartment  40074.000000  14.0000  14.0000\n",
       "329   Default  17328.000000        close  17328.000000  13.0000  13.0000\n",
       "299   Default   7574.000000      station   7574.000000  12.0000  12.0000\n",
       "536   Default  13665.000000          bed  13665.000000  11.0000  11.0000\n",
       "94    Default   7325.000000     distance   7325.000000  10.0000  10.0000\n",
       "87    Default   9237.000000     bathroom   9237.000000   9.0000   9.0000\n",
       "52    Default  23780.000000         room  23780.000000   8.0000   8.0000\n",
       "13    Default  28905.000000         host  28905.000000   7.0000   7.0000\n",
       "151   Default  18256.000000         make  18256.000000   6.0000   6.0000\n",
       "201   Default   5666.000000     question   5666.000000   5.0000   5.0000\n",
       "152   Default   5945.000000      minutes   5945.000000   4.0000   4.0000\n",
       "916   Default   5881.000000       subway   5881.000000   3.0000   3.0000\n",
       "20    Default  25197.000000         nice  25197.000000   2.0000   2.0000\n",
       "49    Default  35236.000000        clean  35236.000000   1.0000   1.0000\n",
       "...       ...           ...          ...           ...      ...      ...\n",
       "1471   Topic8    213.016943      country    213.893429   2.6123  -6.8815\n",
       "2664   Topic8    208.790752        smoke    209.667194   2.6122  -6.9016\n",
       "1654   Topic8    203.745176    authentic    204.622271   2.6121  -6.9260\n",
       "2104   Topic8    198.185840         tall    199.062357   2.6120  -6.9537\n",
       "1830   Topic8   1302.434379        allow   1583.929762   2.4207  -5.0709\n",
       "448    Topic8   4262.254856       arrive   5946.054730   2.2835  -3.8853\n",
       "350    Topic8   1358.057641         last   1711.339174   2.3852  -5.0291\n",
       "1883   Topic8    574.442995      leaving    688.791305   2.4349  -5.8895\n",
       "133    Topic8  11001.974968           us  27913.535339   1.6854  -2.9371\n",
       "211    Topic8   5694.788884        check  14029.559152   1.7148  -3.5956\n",
       "179    Topic8   1989.905677         left   3674.111827   2.0032  -4.6471\n",
       "370    Topic8   1035.421519         call   1586.755450   2.1895  -5.3003\n",
       "250    Topic8   3102.223670          day   6835.580471   1.8264  -4.2030\n",
       "53     Topic8   2101.168049         able   4087.998686   1.9509  -4.5926\n",
       "317    Topic8   1997.620080      arrival   3918.147826   1.9428  -4.6432\n",
       "216    Topic8    847.651592          due   1264.697242   2.2163  -5.5004\n",
       "11     Topic8   3681.785605         even   9979.827816   1.6193  -4.0317\n",
       "734    Topic8    626.854516       change    862.399808   2.2974  -5.8022\n",
       "146    Topic8   4474.671391          get  16296.861231   1.3239  -3.8367\n",
       "663    Topic8   1716.749838      morning   3885.579480   1.7996  -4.7947\n",
       "278    Topic8   2748.576495        night  11271.735033   1.2052  -4.3241\n",
       "430    Topic8   1879.040630         meet   5826.065710   1.4848  -4.7044\n",
       "46     Topic8   1943.839566  accommodate   6605.707433   1.3932  -4.6705\n",
       "130    Topic8   2988.168623         time  16221.677638   0.9247  -4.2405\n",
       "891    Topic8   1388.759879         help   4956.005780   1.3442  -5.0067\n",
       "56     Topic8   1598.896338       around   8727.864587   0.9192  -4.8658\n",
       "151    Topic8   1774.208313         make  18256.208078   0.2853  -4.7618\n",
       "214    Topic8   1351.272778         come   6781.906827   1.0032  -5.0341\n",
       "99     Topic8   1363.997610           go   9449.725704   0.6809  -5.0247\n",
       "210    Topic8   1319.602641         back  10446.557323   0.5475  -5.0578\n",
       "\n",
       "[542 rows x 6 columns], token_table=      Topic      Freq         Term\n",
       "term                              \n",
       "85        5  0.999854           10\n",
       "139       5  0.999423           15\n",
       "675       3  0.010068           20\n",
       "675       5  0.989188           20\n",
       "787       8  0.997259           24\n",
       "53        2  0.085861         able\n",
       "53        4  0.242417         able\n",
       "53        5  0.060176         able\n",
       "53        6  0.054061         able\n",
       "53        7  0.043542         able\n",
       "53        8  0.513943         able\n",
       "228       1  0.533635   absolutely\n",
       "228       2  0.346063   absolutely\n",
       "228       4  0.049438   absolutely\n",
       "228       6  0.070667   absolutely\n",
       "46        1  0.474892  accommodate\n",
       "46        2  0.102184  accommodate\n",
       "46        6  0.128677  accommodate\n",
       "46        8  0.294291  accommodate\n",
       "47        3  0.075230     accurate\n",
       "47        6  0.924672     accurate\n",
       "4076      2  0.998246        afeng\n",
       "326       2  0.318335       airbnb\n",
       "326       3  0.156025       airbnb\n",
       "326       6  0.525595       airbnb\n",
       "560       5  0.864338      airport\n",
       "560       8  0.135389      airport\n",
       "1830      2  0.177407        allow\n",
       "1830      8  0.822006        allow\n",
       "54        1  0.071329         also\n",
       "...     ...       ...          ...\n",
       "1363      8  0.096547        water\n",
       "45        1  0.090674      welcome\n",
       "45        2  0.833247      welcome\n",
       "45        6  0.075975      welcome\n",
       "82        1  0.243273         well\n",
       "82        2  0.098021         well\n",
       "82        3  0.004569         well\n",
       "82        4  0.101819         well\n",
       "82        5  0.082416         well\n",
       "82        6  0.190287         well\n",
       "82        7  0.279704         well\n",
       "34        3  0.276388         wifi\n",
       "34        5  0.047949         wifi\n",
       "34        7  0.628771         wifi\n",
       "34        8  0.047045         wifi\n",
       "137       4  0.849091       within\n",
       "137       5  0.150718       within\n",
       "138       1  0.314235    wonderful\n",
       "138       2  0.525337    wonderful\n",
       "138       4  0.124190    wonderful\n",
       "138       6  0.036097    wonderful\n",
       "84        1  0.668940        would\n",
       "84        2  0.148196        would\n",
       "84        3  0.162214        would\n",
       "84        6  0.014443        would\n",
       "84        8  0.006175        would\n",
       "316       2  0.996112         yard\n",
       "3875      6  0.996888      yasmina\n",
       "1351      8  0.996770          yes\n",
       "3369      1  0.994548           yu\n",
       "\n",
       "[981 rows x 3 columns], R=30, lambda_step=0.01, plot_opts={'xlab': 'PC1', 'ylab': 'PC2'}, topic_order=[7, 2, 4, 1, 8, 5, 6, 3])"
      ]
     },
     "execution_count": 23,
     "metadata": {},
     "output_type": "execute_result"
    }
   ],
   "source": [
    "pyLDAvis.enable_notebook()\n",
    "visual = pyLDAvis.gensim.prepare(lda_model, corpus, dictionary)\n",
    "visual"
   ]
  },
  {
   "cell_type": "markdown",
   "metadata": {},
   "source": [
    "#### Topics that can be inferred from the results:\n",
    "1. overall evaluation/recommendation <br>\n",
    "2. feelings <br>\n",
    "3. issues (e.g., parking, noise) <br>\n",
    "4. location <br>\n",
    "5. transportation <br>\n",
    "6. communication <br>\n",
    "7. rooms and amenities <br>\n",
    "8. checkin"
   ]
  },
  {
   "cell_type": "code",
   "execution_count": 35,
   "metadata": {
    "collapsed": true
   },
   "outputs": [],
   "source": [
    "# save pyldavis results\n",
    "pyLDAvis.save_html(visual,'vis.html')"
   ]
  },
  {
   "cell_type": "markdown",
   "metadata": {},
   "source": [
    "#### Are there differences between topic weights of reviews for superhosts and those for non-superhosts? \n",
    "\n",
    "Get topics and corresponding weights for each review"
   ]
  },
  {
   "cell_type": "code",
   "execution_count": 25,
   "metadata": {
    "collapsed": true
   },
   "outputs": [],
   "source": [
    "review_topics = []\n",
    "for x in corpus:\n",
    "    topics = lda_model.get_document_topics(x)\n",
    "    review_topics.append(topics)"
   ]
  },
  {
   "cell_type": "markdown",
   "metadata": {},
   "source": [
    "For now, look at the most probable topic of each review (topic with highest weight), and compare most probable topics of reviews for superhosts and for non-superhosts"
   ]
  },
  {
   "cell_type": "code",
   "execution_count": 27,
   "metadata": {
    "collapsed": true
   },
   "outputs": [],
   "source": [
    "# for each review, find topic with highest weight\n",
    "highest_prob = []\n",
    "topic_highest_prob = []\n",
    "for topics_weights in review_topics: # for each list of topic-weight pairs\n",
    "    highest = max(pair[1] for pair in topics_weights) # find the highest weight\n",
    "    highest_prob.append(highest)\n",
    "    toptopic = [pair[0] for pair in topics_weights if pair[1] == highest][0] # find the topic with the highest weight, may have ties, use only the first one\n",
    "    topic_highest_prob.append(toptopic)"
   ]
  },
  {
   "cell_type": "code",
   "execution_count": 28,
   "metadata": {
    "collapsed": true
   },
   "outputs": [],
   "source": [
    "# saving review topics and max prob into dataframe\n",
    "text_lda1 = text_lda.copy()\n",
    "text_lda1['review_topics'] = review_topics\n",
    "text_lda1['highest_prob'] = highest_prob\n",
    "text_lda1['topic_highest_prob'] = topic_highest_prob\n",
    "# create a column for number of topics in each review\n",
    "text_lda1['no_of_topics'] = text_lda1['review_topics'].apply(len)"
   ]
  },
  {
   "cell_type": "code",
   "execution_count": 29,
   "metadata": {},
   "outputs": [
    {
     "data": {
      "text/html": [
       "<div>\n",
       "<style>\n",
       "    .dataframe thead tr:only-child th {\n",
       "        text-align: right;\n",
       "    }\n",
       "\n",
       "    .dataframe thead th {\n",
       "        text-align: left;\n",
       "    }\n",
       "\n",
       "    .dataframe tbody tr th {\n",
       "        vertical-align: top;\n",
       "    }\n",
       "</style>\n",
       "<table border=\"1\" class=\"dataframe\">\n",
       "  <thead>\n",
       "    <tr style=\"text-align: right;\">\n",
       "      <th></th>\n",
       "      <th>id</th>\n",
       "      <th>comments</th>\n",
       "      <th>host_is_superhost</th>\n",
       "      <th>price</th>\n",
       "      <th>number_of_reviews</th>\n",
       "      <th>review_scores_rating</th>\n",
       "      <th>auto_posting</th>\n",
       "      <th>en</th>\n",
       "      <th>cleaned_data</th>\n",
       "      <th>review_length</th>\n",
       "      <th>review_topics</th>\n",
       "      <th>highest_prob</th>\n",
       "      <th>topic_highest_prob</th>\n",
       "      <th>no_of_topics</th>\n",
       "    </tr>\n",
       "  </thead>\n",
       "  <tbody>\n",
       "    <tr>\n",
       "      <th>0</th>\n",
       "      <td>7441144</td>\n",
       "      <td>Pretty nice, quiet, cozy place to stay. Toilet...</td>\n",
       "      <td>f</td>\n",
       "      <td>$50.00</td>\n",
       "      <td>5</td>\n",
       "      <td>88.0</td>\n",
       "      <td>no</td>\n",
       "      <td>yes</td>\n",
       "      <td>[pretty, nice, quiet, cozy, place, stay, toile...</td>\n",
       "      <td>38</td>\n",
       "      <td>[(1, 0.383607), (2, 0.113889), (3, 0.153692), ...</td>\n",
       "      <td>0.383607</td>\n",
       "      <td>1</td>\n",
       "      <td>5</td>\n",
       "    </tr>\n",
       "    <tr>\n",
       "      <th>1</th>\n",
       "      <td>7441144</td>\n",
       "      <td>The host was extremely welcoming and obliging....</td>\n",
       "      <td>f</td>\n",
       "      <td>$50.00</td>\n",
       "      <td>5</td>\n",
       "      <td>88.0</td>\n",
       "      <td>no</td>\n",
       "      <td>yes</td>\n",
       "      <td>[host, extremely, welcome, oblige, neighborhoo...</td>\n",
       "      <td>14</td>\n",
       "      <td>[(0, 0.54905), (1, 0.320127), (2, 0.0890968)]</td>\n",
       "      <td>0.549050</td>\n",
       "      <td>0</td>\n",
       "      <td>3</td>\n",
       "    </tr>\n",
       "    <tr>\n",
       "      <th>3</th>\n",
       "      <td>7441144</td>\n",
       "      <td>The host has been very accommodating and helpf...</td>\n",
       "      <td>f</td>\n",
       "      <td>$50.00</td>\n",
       "      <td>5</td>\n",
       "      <td>88.0</td>\n",
       "      <td>no</td>\n",
       "      <td>yes</td>\n",
       "      <td>[host, accommodate, helpful, description, ad, ...</td>\n",
       "      <td>10</td>\n",
       "      <td>[(0, 0.0113778), (1, 0.0113849), (2, 0.01138),...</td>\n",
       "      <td>0.473836</td>\n",
       "      <td>6</td>\n",
       "      <td>8</td>\n",
       "    </tr>\n",
       "    <tr>\n",
       "      <th>5</th>\n",
       "      <td>12233830</td>\n",
       "      <td>Couldn't have been happier. The apartment was ...</td>\n",
       "      <td>t</td>\n",
       "      <td>$139.00</td>\n",
       "      <td>75</td>\n",
       "      <td>95.0</td>\n",
       "      <td>no</td>\n",
       "      <td>yes</td>\n",
       "      <td>[happy, apartment, well, renovate, clean, conv...</td>\n",
       "      <td>38</td>\n",
       "      <td>[(0, 0.296853), (4, 0.0562053), (5, 0.330816),...</td>\n",
       "      <td>0.330816</td>\n",
       "      <td>5</td>\n",
       "      <td>5</td>\n",
       "    </tr>\n",
       "    <tr>\n",
       "      <th>6</th>\n",
       "      <td>12233830</td>\n",
       "      <td>The apartment is very nice- as described and v...</td>\n",
       "      <td>t</td>\n",
       "      <td>$139.00</td>\n",
       "      <td>75</td>\n",
       "      <td>95.0</td>\n",
       "      <td>no</td>\n",
       "      <td>yes</td>\n",
       "      <td>[apartment, nice, describe, convenient, real, ...</td>\n",
       "      <td>85</td>\n",
       "      <td>[(0, 0.0828299), (1, 0.101222), (2, 0.070762),...</td>\n",
       "      <td>0.385427</td>\n",
       "      <td>4</td>\n",
       "      <td>7</td>\n",
       "    </tr>\n",
       "  </tbody>\n",
       "</table>\n",
       "</div>"
      ],
      "text/plain": [
       "         id                                           comments  \\\n",
       "0   7441144  Pretty nice, quiet, cozy place to stay. Toilet...   \n",
       "1   7441144  The host was extremely welcoming and obliging....   \n",
       "3   7441144  The host has been very accommodating and helpf...   \n",
       "5  12233830  Couldn't have been happier. The apartment was ...   \n",
       "6  12233830  The apartment is very nice- as described and v...   \n",
       "\n",
       "  host_is_superhost    price  number_of_reviews  review_scores_rating  \\\n",
       "0                 f   $50.00                  5                  88.0   \n",
       "1                 f   $50.00                  5                  88.0   \n",
       "3                 f   $50.00                  5                  88.0   \n",
       "5                 t  $139.00                 75                  95.0   \n",
       "6                 t  $139.00                 75                  95.0   \n",
       "\n",
       "  auto_posting   en                                       cleaned_data  \\\n",
       "0           no  yes  [pretty, nice, quiet, cozy, place, stay, toile...   \n",
       "1           no  yes  [host, extremely, welcome, oblige, neighborhoo...   \n",
       "3           no  yes  [host, accommodate, helpful, description, ad, ...   \n",
       "5           no  yes  [happy, apartment, well, renovate, clean, conv...   \n",
       "6           no  yes  [apartment, nice, describe, convenient, real, ...   \n",
       "\n",
       "   review_length                                      review_topics  \\\n",
       "0             38  [(1, 0.383607), (2, 0.113889), (3, 0.153692), ...   \n",
       "1             14      [(0, 0.54905), (1, 0.320127), (2, 0.0890968)]   \n",
       "3             10  [(0, 0.0113778), (1, 0.0113849), (2, 0.01138),...   \n",
       "5             38  [(0, 0.296853), (4, 0.0562053), (5, 0.330816),...   \n",
       "6             85  [(0, 0.0828299), (1, 0.101222), (2, 0.070762),...   \n",
       "\n",
       "   highest_prob  topic_highest_prob  no_of_topics  \n",
       "0      0.383607                   1             5  \n",
       "1      0.549050                   0             3  \n",
       "3      0.473836                   6             8  \n",
       "5      0.330816                   5             5  \n",
       "6      0.385427                   4             7  "
      ]
     },
     "execution_count": 29,
     "metadata": {},
     "output_type": "execute_result"
    }
   ],
   "source": [
    "text_lda1.head()"
   ]
  },
  {
   "cell_type": "code",
   "execution_count": 30,
   "metadata": {
    "collapsed": true
   },
   "outputs": [],
   "source": [
    "text_lda1['host_is_superhost'] = text_lda1['host_is_superhost'].astype('category')\n",
    "text_lda1['topic_highest_prob'] = text_lda1['topic_highest_prob'].astype('category')"
   ]
  },
  {
   "cell_type": "markdown",
   "metadata": {},
   "source": [
    "Proportion of reviews that had each topic as the most probable topic, broken down by superhost status"
   ]
  },
  {
   "cell_type": "code",
   "execution_count": 31,
   "metadata": {},
   "outputs": [
    {
     "data": {
      "text/html": [
       "<div>\n",
       "<style>\n",
       "    .dataframe thead tr:only-child th {\n",
       "        text-align: right;\n",
       "    }\n",
       "\n",
       "    .dataframe thead th {\n",
       "        text-align: left;\n",
       "    }\n",
       "\n",
       "    .dataframe tbody tr th {\n",
       "        vertical-align: top;\n",
       "    }\n",
       "</style>\n",
       "<table border=\"1\" class=\"dataframe\">\n",
       "  <thead>\n",
       "    <tr style=\"text-align: right;\">\n",
       "      <th></th>\n",
       "      <th></th>\n",
       "      <th>id</th>\n",
       "    </tr>\n",
       "    <tr>\n",
       "      <th>host_is_superhost</th>\n",
       "      <th>topic_highest_prob</th>\n",
       "      <th></th>\n",
       "    </tr>\n",
       "  </thead>\n",
       "  <tbody>\n",
       "    <tr>\n",
       "      <th rowspan=\"8\" valign=\"top\">f</th>\n",
       "      <th>0</th>\n",
       "      <td>12.167522</td>\n",
       "    </tr>\n",
       "    <tr>\n",
       "      <th>1</th>\n",
       "      <td>12.503363</td>\n",
       "    </tr>\n",
       "    <tr>\n",
       "      <th>2</th>\n",
       "      <td>2.722051</td>\n",
       "    </tr>\n",
       "    <tr>\n",
       "      <th>3</th>\n",
       "      <td>14.132593</td>\n",
       "    </tr>\n",
       "    <tr>\n",
       "      <th>4</th>\n",
       "      <td>6.668827</td>\n",
       "    </tr>\n",
       "    <tr>\n",
       "      <th>5</th>\n",
       "      <td>5.677339</td>\n",
       "    </tr>\n",
       "    <tr>\n",
       "      <th>6</th>\n",
       "      <td>34.574894</td>\n",
       "    </tr>\n",
       "    <tr>\n",
       "      <th>7</th>\n",
       "      <td>11.553410</td>\n",
       "    </tr>\n",
       "    <tr>\n",
       "      <th rowspan=\"8\" valign=\"top\">t</th>\n",
       "      <th>0</th>\n",
       "      <td>10.989207</td>\n",
       "    </tr>\n",
       "    <tr>\n",
       "      <th>1</th>\n",
       "      <td>24.178687</td>\n",
       "    </tr>\n",
       "    <tr>\n",
       "      <th>2</th>\n",
       "      <td>2.220760</td>\n",
       "    </tr>\n",
       "    <tr>\n",
       "      <th>3</th>\n",
       "      <td>5.726401</td>\n",
       "    </tr>\n",
       "    <tr>\n",
       "      <th>4</th>\n",
       "      <td>7.244435</td>\n",
       "    </tr>\n",
       "    <tr>\n",
       "      <th>5</th>\n",
       "      <td>4.505124</td>\n",
       "    </tr>\n",
       "    <tr>\n",
       "      <th>6</th>\n",
       "      <td>34.911742</td>\n",
       "    </tr>\n",
       "    <tr>\n",
       "      <th>7</th>\n",
       "      <td>10.223642</td>\n",
       "    </tr>\n",
       "  </tbody>\n",
       "</table>\n",
       "</div>"
      ],
      "text/plain": [
       "                                             id\n",
       "host_is_superhost topic_highest_prob           \n",
       "f                 0                   12.167522\n",
       "                  1                   12.503363\n",
       "                  2                    2.722051\n",
       "                  3                   14.132593\n",
       "                  4                    6.668827\n",
       "                  5                    5.677339\n",
       "                  6                   34.574894\n",
       "                  7                   11.553410\n",
       "t                 0                   10.989207\n",
       "                  1                   24.178687\n",
       "                  2                    2.220760\n",
       "                  3                    5.726401\n",
       "                  4                    7.244435\n",
       "                  5                    4.505124\n",
       "                  6                   34.911742\n",
       "                  7                   10.223642"
      ]
     },
     "execution_count": 31,
     "metadata": {},
     "output_type": "execute_result"
    }
   ],
   "source": [
    "sh_topic = text_lda1.groupby(['host_is_superhost', 'topic_highest_prob']).agg({'id':'sum'})\n",
    "sh_topic_percent = sh_topic.groupby(level=0).apply(lambda x: 100 * x / float(x.sum()))\n",
    "sh_topic_percent"
   ]
  },
  {
   "cell_type": "markdown",
   "metadata": {},
   "source": [
    "Plot topic comparison between superhosts and nonsuperhosts"
   ]
  },
  {
   "cell_type": "code",
   "execution_count": 32,
   "metadata": {
    "collapsed": true
   },
   "outputs": [],
   "source": [
    "# remove index labels, change to long format with host_is_superhost, topic_highest_prob, prop as columns\n",
    "sh_topic_percent1 = sh_topic_percent.reset_index()\n",
    "sh_topic_percent1 = sh_topic_percent1.rename(columns = {'id':'proportion'})\n",
    "# change to wide format for plotting\n",
    "sh_topic_percent2 = sh_topic_percent1.pivot(index='topic_highest_prob', columns='host_is_superhost', values='proportion')"
   ]
  },
  {
   "cell_type": "code",
   "execution_count": 33,
   "metadata": {},
   "outputs": [
    {
     "data": {
      "image/png": "[encoded data removed]",
      "text/plain": [
       "<matplotlib.figure.Figure at 0x18a4ec2f438>"
      ]
     },
     "metadata": {},
     "output_type": "display_data"
    }
   ],
   "source": [
    "sns.set()\n",
    "_ = sh_topic_percent2.plot.bar()\n",
    "plt.xlabel('topic number')\n",
    "plt.ylabel('proportion of reviews with a topic as the heaviest-weighted topic')\n",
    "plt.show()"
   ]
  },
  {
   "cell_type": "markdown",
   "metadata": {},
   "source": [
    "It appears that topic 1 (feelings) occur in reviews for superhosts more often than in reviews for non-superhosts. <br>\n",
    "Topic 3 (issues/problems) occur in reviews for superhosts less often than in reviews for non-superhosts."
   ]
  },
  {
   "cell_type": "markdown",
   "metadata": {
    "collapsed": true
   },
   "source": [
    "### Sentiment analysis "
   ]
  },
  {
   "cell_type": "code",
   "execution_count": 45,
   "metadata": {
    "collapsed": true
   },
   "outputs": [],
   "source": [
    "sentiment = SentimentIntensityAnalyzer()\n",
    "# calculate and save polarity scores for each review\n",
    "polarity_scores = [sentiment.polarity_scores(review) for review in text_use['comments']]"
   ]
  },
  {
   "cell_type": "code",
   "execution_count": 46,
   "metadata": {},
   "outputs": [
    {
     "data": {
      "text/plain": [
       "[{'compound': 0.9492, 'neg': 0.034, 'neu': 0.726, 'pos': 0.241},\n",
       " {'compound': 0.8932, 'neg': 0.0, 'neu': 0.64, 'pos': 0.36},\n",
       " {'compound': 0.8225, 'neg': 0.0, 'neu': 0.482, 'pos': 0.518},\n",
       " {'compound': 0.7233, 'neg': 0.0, 'neu': 0.792, 'pos': 0.208},\n",
       " {'compound': 0.6249, 'neg': 0.0, 'neu': 0.423, 'pos': 0.577}]"
      ]
     },
     "execution_count": 46,
     "metadata": {},
     "output_type": "execute_result"
    }
   ],
   "source": [
    "polarity_scores[:5]"
   ]
  },
  {
   "cell_type": "code",
   "execution_count": 47,
   "metadata": {
    "collapsed": true
   },
   "outputs": [],
   "source": [
    "# save each of the four polarity scores - compound, negativity, neutrality, positivity in master dataframe\n",
    "text_use1 = text_use.copy()\n",
    "text_use1['compound'] = [score['compound'] for score in polarity_scores]\n",
    "text_use1['negativity'] = [score['neg'] for score in polarity_scores]\n",
    "text_use1['neutrality'] = [score['neu'] for score in polarity_scores]\n",
    "text_use1['positivity'] = [score['pos'] for score in polarity_scores]"
   ]
  },
  {
   "cell_type": "code",
   "execution_count": 48,
   "metadata": {},
   "outputs": [
    {
     "data": {
      "text/html": [
       "<div>\n",
       "<style>\n",
       "    .dataframe thead tr:only-child th {\n",
       "        text-align: right;\n",
       "    }\n",
       "\n",
       "    .dataframe thead th {\n",
       "        text-align: left;\n",
       "    }\n",
       "\n",
       "    .dataframe tbody tr th {\n",
       "        vertical-align: top;\n",
       "    }\n",
       "</style>\n",
       "<table border=\"1\" class=\"dataframe\">\n",
       "  <thead>\n",
       "    <tr style=\"text-align: right;\">\n",
       "      <th></th>\n",
       "      <th>id</th>\n",
       "      <th>comments</th>\n",
       "      <th>host_is_superhost</th>\n",
       "      <th>price</th>\n",
       "      <th>number_of_reviews</th>\n",
       "      <th>review_scores_rating</th>\n",
       "      <th>auto_posting</th>\n",
       "      <th>en</th>\n",
       "      <th>cleaned_data</th>\n",
       "      <th>review_length</th>\n",
       "      <th>compound</th>\n",
       "      <th>negativity</th>\n",
       "      <th>neutrality</th>\n",
       "      <th>positivity</th>\n",
       "    </tr>\n",
       "  </thead>\n",
       "  <tbody>\n",
       "    <tr>\n",
       "      <th>0</th>\n",
       "      <td>7441144</td>\n",
       "      <td>Pretty nice, quiet, cozy place to stay. Toilet...</td>\n",
       "      <td>f</td>\n",
       "      <td>$50.00</td>\n",
       "      <td>5</td>\n",
       "      <td>88.0</td>\n",
       "      <td>no</td>\n",
       "      <td>yes</td>\n",
       "      <td>[pretty, nice, quiet, cozy, place, stay, toile...</td>\n",
       "      <td>38</td>\n",
       "      <td>0.9492</td>\n",
       "      <td>0.034</td>\n",
       "      <td>0.726</td>\n",
       "      <td>0.241</td>\n",
       "    </tr>\n",
       "    <tr>\n",
       "      <th>1</th>\n",
       "      <td>7441144</td>\n",
       "      <td>The host was extremely welcoming and obliging....</td>\n",
       "      <td>f</td>\n",
       "      <td>$50.00</td>\n",
       "      <td>5</td>\n",
       "      <td>88.0</td>\n",
       "      <td>no</td>\n",
       "      <td>yes</td>\n",
       "      <td>[host, extremely, welcome, oblige, neighborhoo...</td>\n",
       "      <td>14</td>\n",
       "      <td>0.8932</td>\n",
       "      <td>0.000</td>\n",
       "      <td>0.640</td>\n",
       "      <td>0.360</td>\n",
       "    </tr>\n",
       "    <tr>\n",
       "      <th>2</th>\n",
       "      <td>7441144</td>\n",
       "      <td>Nice and easy stay - with good accommodations ...</td>\n",
       "      <td>f</td>\n",
       "      <td>$50.00</td>\n",
       "      <td>5</td>\n",
       "      <td>88.0</td>\n",
       "      <td>no</td>\n",
       "      <td>yes</td>\n",
       "      <td>[nice, easy, stay, good, accommodation, especi...</td>\n",
       "      <td>8</td>\n",
       "      <td>0.8225</td>\n",
       "      <td>0.000</td>\n",
       "      <td>0.482</td>\n",
       "      <td>0.518</td>\n",
       "    </tr>\n",
       "    <tr>\n",
       "      <th>3</th>\n",
       "      <td>7441144</td>\n",
       "      <td>The host has been very accommodating and helpf...</td>\n",
       "      <td>f</td>\n",
       "      <td>$50.00</td>\n",
       "      <td>5</td>\n",
       "      <td>88.0</td>\n",
       "      <td>no</td>\n",
       "      <td>yes</td>\n",
       "      <td>[host, accommodate, helpful, description, ad, ...</td>\n",
       "      <td>10</td>\n",
       "      <td>0.7233</td>\n",
       "      <td>0.000</td>\n",
       "      <td>0.792</td>\n",
       "      <td>0.208</td>\n",
       "    </tr>\n",
       "    <tr>\n",
       "      <th>4</th>\n",
       "      <td>7441144</td>\n",
       "      <td>It's a great quiet stay.</td>\n",
       "      <td>f</td>\n",
       "      <td>$50.00</td>\n",
       "      <td>5</td>\n",
       "      <td>88.0</td>\n",
       "      <td>no</td>\n",
       "      <td>yes</td>\n",
       "      <td>[great, quiet, stay]</td>\n",
       "      <td>3</td>\n",
       "      <td>0.6249</td>\n",
       "      <td>0.000</td>\n",
       "      <td>0.423</td>\n",
       "      <td>0.577</td>\n",
       "    </tr>\n",
       "  </tbody>\n",
       "</table>\n",
       "</div>"
      ],
      "text/plain": [
       "        id                                           comments  \\\n",
       "0  7441144  Pretty nice, quiet, cozy place to stay. Toilet...   \n",
       "1  7441144  The host was extremely welcoming and obliging....   \n",
       "2  7441144  Nice and easy stay - with good accommodations ...   \n",
       "3  7441144  The host has been very accommodating and helpf...   \n",
       "4  7441144                           It's a great quiet stay.   \n",
       "\n",
       "  host_is_superhost   price  number_of_reviews  review_scores_rating  \\\n",
       "0                 f  $50.00                  5                  88.0   \n",
       "1                 f  $50.00                  5                  88.0   \n",
       "2                 f  $50.00                  5                  88.0   \n",
       "3                 f  $50.00                  5                  88.0   \n",
       "4                 f  $50.00                  5                  88.0   \n",
       "\n",
       "  auto_posting   en                                       cleaned_data  \\\n",
       "0           no  yes  [pretty, nice, quiet, cozy, place, stay, toile...   \n",
       "1           no  yes  [host, extremely, welcome, oblige, neighborhoo...   \n",
       "2           no  yes  [nice, easy, stay, good, accommodation, especi...   \n",
       "3           no  yes  [host, accommodate, helpful, description, ad, ...   \n",
       "4           no  yes                               [great, quiet, stay]   \n",
       "\n",
       "   review_length  compound  negativity  neutrality  positivity  \n",
       "0             38    0.9492       0.034       0.726       0.241  \n",
       "1             14    0.8932       0.000       0.640       0.360  \n",
       "2              8    0.8225       0.000       0.482       0.518  \n",
       "3             10    0.7233       0.000       0.792       0.208  \n",
       "4              3    0.6249       0.000       0.423       0.577  "
      ]
     },
     "execution_count": 48,
     "metadata": {},
     "output_type": "execute_result"
    }
   ],
   "source": [
    "text_use1[:5]"
   ]
  },
  {
   "cell_type": "markdown",
   "metadata": {},
   "source": [
    "#### Compare sentiment scores of reviews for superhosts and nonsuperhosts"
   ]
  },
  {
   "cell_type": "code",
   "execution_count": 49,
   "metadata": {
    "collapsed": true
   },
   "outputs": [],
   "source": [
    "text_use1['host_is_superhost'] = text_use1['host_is_superhost'].astype('category')"
   ]
  },
  {
   "cell_type": "code",
   "execution_count": 50,
   "metadata": {
    "collapsed": true
   },
   "outputs": [],
   "source": [
    "# ecdf function\n",
    "def ecdf(data):\n",
    "    \"\"\"Compute ECDF for a one-dimensional array of measurements.\"\"\"\n",
    "    n = len(data)\n",
    "    x = np.sort(data)\n",
    "    y = np.arange(1, n+1) / n\n",
    "    return x, y"
   ]
  },
  {
   "cell_type": "markdown",
   "metadata": {},
   "source": [
    "compound sentiment score"
   ]
  },
  {
   "cell_type": "code",
   "execution_count": 55,
   "metadata": {
    "collapsed": true
   },
   "outputs": [],
   "source": [
    "sh_compound = text_use1['compound'][text_use1['host_is_superhost']=='t']\n",
    "nsh_compound = text_use1['compound'][text_use1['host_is_superhost']=='f']"
   ]
  },
  {
   "cell_type": "code",
   "execution_count": 56,
   "metadata": {},
   "outputs": [
    {
     "data": {
      "image/png": "[encoded data removed]",
      "text/plain": [
       "<matplotlib.figure.Figure at 0x18a5865da58>"
      ]
     },
     "metadata": {},
     "output_type": "display_data"
    }
   ],
   "source": [
    "# plot ecdf of compound sentiment score for superhost vs non-superhost\n",
    "x_sh, y_sh = ecdf(sh_compound)\n",
    "x_nsh, y_nsh = ecdf(nsh_compound)\n",
    "_ = plt.plot(x_sh, y_sh, marker='.', linestyle=None)\n",
    "_ = plt.plot(x_nsh, y_nsh, marker='.', linestyle=None)\n",
    "plt.legend(('superhost', 'non-superhost'), loc='upper left')\n",
    "_ = plt.xlabel('compound sentiment score')\n",
    "_ = plt.ylabel('empirical cumulative distribution function')\n",
    "plt.show()"
   ]
  },
  {
   "cell_type": "markdown",
   "metadata": {},
   "source": [
    "Larger proportion of reviews for superhosts have high sentiment scores than reviews for non-superhosts, but the difference seems quite small. <br>\n",
    "The sentiment analyzer may not work well with airbnb review data. "
   ]
  },
  {
   "cell_type": "markdown",
   "metadata": {},
   "source": [
    "### Use features of reviews to predict superhost/non-superhost status <br>\n",
    "May be used as a sentiment classifier for airbnb reviews."
   ]
  },
  {
   "cell_type": "code",
   "execution_count": 36,
   "metadata": {
    "collapsed": true
   },
   "outputs": [],
   "source": [
    "# get target variable (change host status to 1 and 0) and feature variable\n",
    "y = np.where(text_use['host_is_superhost']=='t', 1, 0)\n",
    "X = text_use['comments']"
   ]
  },
  {
   "cell_type": "code",
   "execution_count": 37,
   "metadata": {
    "collapsed": true
   },
   "outputs": [],
   "source": [
    "# train test data split\n",
    "X_train, X_test, y_train, y_test = train_test_split(X, y, test_size=0.3, random_state=42)"
   ]
  },
  {
   "cell_type": "markdown",
   "metadata": {},
   "source": [
    "Vectorize words with countvectorizer"
   ]
  },
  {
   "cell_type": "code",
   "execution_count": 38,
   "metadata": {
    "collapsed": true
   },
   "outputs": [],
   "source": [
    "# instantiate count vectorizer\n",
    "count_vectorizer = CountVectorizer(stop_words='english')\n",
    "# create term document matrix for training and test data\n",
    "count_train = count_vectorizer.fit_transform(X_train.values)\n",
    "count_test = count_vectorizer.transform(X_test.values)"
   ]
  },
  {
   "cell_type": "markdown",
   "metadata": {},
   "source": [
    "Train and test naive bayes classifier"
   ]
  },
  {
   "cell_type": "code",
   "execution_count": 41,
   "metadata": {},
   "outputs": [
    {
     "name": "stdout",
     "output_type": "stream",
     "text": [
      "0.789765071182\n",
      "[[17985  3021]\n",
      " [ 4156  8976]]\n"
     ]
    }
   ],
   "source": [
    "# instatiate classifier\n",
    "nb_classifier = MultinomialNB()\n",
    "# fit classifier to training data\n",
    "nb_classifier.fit(count_train, y_train)\n",
    "\n",
    "# make prediction on test data \n",
    "pred = nb_classifier.predict(count_test)\n",
    "# metrics\n",
    "accuracy = metrics.accuracy_score(y_test, pred)\n",
    "print(accuracy)\n",
    "cm = metrics.confusion_matrix(y_test, pred, labels=[0,1])\n",
    "print(cm)"
   ]
  },
  {
   "cell_type": "markdown",
   "metadata": {},
   "source": [
    "Most predictive features?"
   ]
  },
  {
   "cell_type": "code",
   "execution_count": 44,
   "metadata": {},
   "outputs": [
    {
     "data": {
      "text/plain": [
       "[(-5.4901991565364039, 'area'),\n",
       " (-5.4772175808972516, 'quiet'),\n",
       " (-5.4658181984087566, 'wonderful'),\n",
       " (-5.4387026307692299, 'restaurants'),\n",
       " (-5.4193110631473935, 'helpful'),\n",
       " (-5.3599760758744743, 'beautiful'),\n",
       " (-5.3244190001021146, 'just'),\n",
       " (-5.3158457693916272, 'good'),\n",
       " (-5.2543606857409468, 'neighborhood'),\n",
       " (-5.1831073740331703, 'close'),\n",
       " (-5.1735419912907901, 'walk'),\n",
       " (-5.1453828672079567, 'time'),\n",
       " (-5.118795811583416, 'definitely'),\n",
       " (-5.0519816921195559, 'really'),\n",
       " (-5.0474957032881207, 'perfect'),\n",
       " (-4.9389139732597727, 'easy'),\n",
       " (-4.909892975343535, 'home'),\n",
       " (-4.9064858170219221, 'house'),\n",
       " (-4.8788504827775565, 'recommend'),\n",
       " (-4.7925614925852145, 'room'),\n",
       " (-4.719693113177458, 'nice'),\n",
       " (-4.7120630647826367, 'host'),\n",
       " (-4.6971067936679862, 'comfortable'),\n",
       " (-4.4388538024972064, 'location'),\n",
       " (-4.3616485083513226, 'apartment'),\n",
       " (-4.3462686087912541, 'clean'),\n",
       " (-4.0621076667380525, 'boston'),\n",
       " (-3.9548692162560268, 'place'),\n",
       " (-3.8994599513257988, 'stay'),\n",
       " (-3.7668312795036965, 'great')]"
      ]
     },
     "execution_count": 44,
     "metadata": {},
     "output_type": "execute_result"
    }
   ],
   "source": [
    "feature_names = count_vectorizer.get_feature_names()\n",
    "# zip feature names with coefficient array, and sort feature with weights\n",
    "feature_with_weights = sorted(zip(nb_classifier.coef_[0], feature_names))\n",
    "# features with highest weights for superhost\n",
    "feature_with_weights[-30:]"
   ]
  }
 ],
 "metadata": {
  "kernelspec": {
   "display_name": "Python 3",
   "language": "python",
   "name": "python3"
  },
  "language_info": {
   "codemirror_mode": {
    "name": "ipython",
    "version": 3
   },
   "file_extension": ".py",
   "mimetype": "text/x-python",
   "name": "python",
   "nbconvert_exporter": "python",
   "pygments_lexer": "ipython3",
   "version": "3.7.1"
  }
 },
 "nbformat": 4,
 "nbformat_minor": 2
}
